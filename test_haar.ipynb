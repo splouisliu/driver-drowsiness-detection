{
 "metadata": {
  "language_info": {
   "codemirror_mode": {
    "name": "ipython",
    "version": 3
   },
   "file_extension": ".py",
   "mimetype": "text/x-python",
   "name": "python",
   "nbconvert_exporter": "python",
   "pygments_lexer": "ipython3",
   "version": "3.9.0-final"
  },
  "orig_nbformat": 2,
  "kernelspec": {
   "name": "python3",
   "display_name": "Python 3.9.0 64-bit",
   "metadata": {
    "interpreter": {
     "hash": "63fd5069d213b44bf678585dea6b12cceca9941eaf7f819626cde1f2670de90d"
    }
   }
  }
 },
 "nbformat": 4,
 "nbformat_minor": 2,
 "cells": [
  {
   "cell_type": "code",
   "execution_count": 2,
   "metadata": {},
   "outputs": [],
   "source": [
    "import cv2\n",
    "import torch\n",
    "import torch.nn as nn\n",
    "import torch.nn.functional as F \n",
    "import torch.optim as optim\n",
    "from torchvision import transforms\n",
    "\n",
    "import matplotlib.pyplot as plt \n",
    "import numpy as np\n",
    "from PIL import Image\n",
    "\n",
    "import os\n",
    "import shutil"
   ]
  },
  {
   "cell_type": "code",
   "execution_count": 3,
   "metadata": {},
   "outputs": [],
   "source": [
    "# Creates and empties a folder called \"Frames\"\n",
    "\n",
    "path = \"./Frames\"\n",
    "shutil.rmtree(path, ignore_errors = True)\n",
    "if not os.path.exists(path):\n",
    "    os.makedirs(\"./Frames\")"
   ]
  },
  {
   "cell_type": "code",
   "execution_count": 10,
   "metadata": {},
   "outputs": [
    {
     "output_type": "execute_result",
     "data": {
      "text/plain": [
       "'\\nList of all relevant pre-trained classifiers:\\n\\nhttps://stackoverflow.com/questions/48905775/difference-betweeen-haarcascade-eye-and-haarcascade-eye-tree-eyeglasses-xml\\n'"
      ]
     },
     "metadata": {},
     "execution_count": 10
    }
   ],
   "source": [
    "# OpenCV's pre-trained Haar Cascades\n",
    "\n",
    "face_cascade = cv2.CascadeClassifier(cv2.data.haarcascades + \"haarcascade_frontalface_alt2.xml\")\n",
    "eye_cascade = cv2.CascadeClassifier(cv2.data.haarcascades + \"haarcascade_eye.xml\")\n",
    "\n",
    "\n",
    "\"\"\"\n",
    "List of all relevant pre-trained classifiers:\n",
    "\n",
    "https://stackoverflow.com/questions/48905775/difference-betweeen-haarcascade-eye-and-haarcascade-eye-tree-eyeglasses-xml\n",
    "\"\"\""
   ]
  },
  {
   "cell_type": "code",
   "execution_count": 11,
   "metadata": {
    "tags": []
   },
   "outputs": [],
   "source": [
    "counter = 0\n",
    "cap = cv2.VideoCapture(\"./Datasets/DROZY/videos_i8/1-1.mp4\")        # Replace with 0 or 1 to use webcam\n",
    "\n",
    "while cap.isOpened():\n",
    "    ret, frame = cap.read()     # return status and image\n",
    "\n",
    "    if ret:\n",
    "        gray = cv2.cvtColor(frame, cv2.COLOR_BGR2GRAY)      # convert image to grayscale\n",
    "        faces = face_cascade.detectMultiScale(gray)         # all detected faces in current frame\n",
    "        \n",
    "        for (x, y, w, h) in faces:\n",
    "            cv2.rectangle(frame, (x, y), (x+w, y+h), (255, 0, 0), 2)\n",
    "            roi = gray[y:y+h, x:x+w]                        # cropped image of face is the roi\n",
    "            eyes = eye_cascade.detectMultiScale(roi)        # all detected eyes in current frame\n",
    "\n",
    "            for (ex, ey, ew, eh) in eyes:\n",
    "                cv2.rectangle(frame, (x+ex, y+ey), (x+ex+ew, y+ey+eh), (0, 255, 0), 2)\n",
    "\n",
    "                \"\"\" \n",
    "                eye = gray[y+ey:y+ey+eh, x+ex:x+ex+ew]\n",
    "                cv2.imwrite(\"./Frames/\" + str(counter) + \".jpg\", eye)       # Save frame images inside folder\n",
    "                counter += 1\n",
    "                \"\"\"\n",
    "                \n",
    "        # Display Output\n",
    "        cv2.imshow(\"img\", frame)\n",
    "\n",
    "        # Exit windows using \"q\" key\n",
    "        if cv2.waitKey(1) == ord(\"q\"):\n",
    "            break\n",
    "    \n",
    "\n",
    "cap.release()\n",
    "cv2.destroyAllWindows()"
   ]
  }
 ]
}