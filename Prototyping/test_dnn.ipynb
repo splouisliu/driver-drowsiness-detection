{
 "metadata": {
  "language_info": {
   "codemirror_mode": {
    "name": "ipython",
    "version": 3
   },
   "file_extension": ".py",
   "mimetype": "text/x-python",
   "name": "python",
   "nbconvert_exporter": "python",
   "pygments_lexer": "ipython3",
   "version": "3.9.0-final"
  },
  "orig_nbformat": 2,
  "kernelspec": {
   "name": "python3",
   "display_name": "Python 3.9.0 64-bit",
   "metadata": {
    "interpreter": {
     "hash": "63fd5069d213b44bf678585dea6b12cceca9941eaf7f819626cde1f2670de90d"
    }
   }
  }
 },
 "nbformat": 4,
 "nbformat_minor": 2,
 "cells": [
  {
   "cell_type": "code",
   "execution_count": 2,
   "metadata": {},
   "outputs": [],
   "source": [
    "import cv2\n",
    "import dlib\n",
    "import torch\n",
    "import torch.nn as nn\n",
    "import torch.nn.functional as F \n",
    "import torch.optim as optim\n",
    "from torchvision import transforms\n",
    "from PIL import Image, ImageOps\n",
    "\n",
    "import matplotlib.pyplot as plt \n",
    "import numpy as np\n",
    "from PIL import Image\n",
    "\n",
    "import os\n",
    "import shutil\n",
    "import time"
   ]
  },
  {
   "cell_type": "code",
   "execution_count": 3,
   "metadata": {},
   "outputs": [],
   "source": [
    "# Load pre-trained face detector\n",
    "modelFile = \"../Pretrained Detectors/res10_300x300_ssd_iter_140000.caffemodel\"\n",
    "configFile = \"../Pretrained Detectors/deploy.prototxt\"\n",
    "net = cv2.dnn.readNetFromCaffe(configFile, modelFile)\n",
    "\n",
    "# Load pre-trained landmark predictor\n",
    "predictor = dlib.shape_predictor(\"../Pretrained Detectors/shape_predictor_68_face_landmarks.dat\")\n"
   ]
  },
  {
   "cell_type": "code",
   "execution_count": 57,
   "metadata": {},
   "outputs": [],
   "source": [
    "# Creates and empties a folder called \"Frames\"\n",
    "\n",
    "path = \"../Frames\"\n",
    "shutil.rmtree(path, ignore_errors = True)\n",
    "if not os.path.exists(path):\n",
    "    os.makedirs(\"../Frames\")"
   ]
  },
  {
   "cell_type": "code",
   "execution_count": 4,
   "metadata": {},
   "outputs": [],
   "source": [
    "def detectFace(img):\n",
    "    img = cv2.cvtColor(img, cv2.COLOR_BGR2RGB)     \n",
    "    blob = cv2.dnn.blobFromImage(cv2.resize(img, (300, 300)), 1.0, (300, 300), (104.0, 177.0, 123.0))\n",
    "\n",
    "    net.setInput(blob)\n",
    "    detections = net.forward()\n",
    "\n",
    "    (x1, y1, x2, y2) = 0, 0, 0, 0\n",
    "    maxConfidence = 0\n",
    "\n",
    "    for i in range(detections.shape[2]):\n",
    "        confidence = detections[0, 0, i, 2]\n",
    "\n",
    "        if confidence > 0.5 and confidence > maxConfidence:\n",
    "            (h, w) = img.shape[:2]\n",
    "            x1 = int(detections[0, 0, i, 3] * w)\n",
    "            y1 = int(detections[0, 0, i, 4] * h)\n",
    "            x2 = int(detections[0, 0, i, 5] * w)\n",
    "            y2 = int(detections[0, 0, i, 6] * h)\n",
    "\n",
    "            maxConfidence = confidence\n",
    "\n",
    "    return (dlib.rectangle(x1, y1, x2, y2), maxConfidence)\n"
   ]
  },
  {
   "cell_type": "code",
   "execution_count": 6,
   "metadata": {},
   "outputs": [],
   "source": [
    "counter = 0\n",
    "#cap = cv2.VideoCapture(\"../Datasets/DROZY/videos_i8/5-1.mp4\")    \n",
    "cap = cv2.VideoCapture(\"../Datasets/X/01/0.mov\")   \n",
    "#cap = cv2.VideoCapture(0)   \n",
    "\n",
    "while cap.isOpened():\n",
    "    ret, frame = cap.read()     # return status and image\n",
    "\n",
    "    if not ret:\n",
    "        print(\"Can't retreive frame\")\n",
    "        break\n",
    "\n",
    "    face, confidence = detectFace(frame)\n",
    "\n",
    "    if confidence > 0:\n",
    "        landmarks = predictor(frame, face)\n",
    "\n",
    "        x1 = landmarks.part(17).x\n",
    "        x2 = landmarks.part(21).x\n",
    "        d = abs(x2-x1)\n",
    "        k = d * 0.15\n",
    "\n",
    "        x1 = x1 - int(k/2)\n",
    "        x2 = x2 + int(k/2)\n",
    "        y1 = landmarks.part(19).y - int(k/2)\n",
    "        y2 = y1 + int(d+k)\n",
    "        \n",
    "\n",
    "        # Save frame as image\n",
    "        eye = frame[y1:y2, x1:x2]\n",
    "        cv2.imwrite(\"./Frames/\" + str(counter) + \".jpg\", eye)       # Save frame images inside folder\n",
    "        counter += 1\n",
    "\n",
    "        # Visuals\n",
    "        cv2.rectangle(frame, (x1, y1), (x2, y2), (0, 255, 0), 1)\n",
    "\n",
    "        cv2.rectangle(frame, (face.left(), face.top()), (face.right(), face.bottom()), (255, 0, 0), 2)\n",
    "        text = \"{:.2f}%\".format(confidence * 100)\n",
    "        cv2.putText(frame, text, (face.left(), face.top()), cv2.FONT_HERSHEY_SIMPLEX, 0.45, (0, 0, 255), 1)\n",
    "\n",
    "    # Display Output\n",
    "    cv2.imshow(\"img\", frame)\n",
    "\n",
    "    # Exit windows using \"q\" key\n",
    "    if cv2.waitKey(1) == ord(\"q\"):\n",
    "        break\n",
    "\n",
    "\n",
    "cap.release()\n",
    "cv2.destroyAllWindows()"
   ]
  }
 ]
}