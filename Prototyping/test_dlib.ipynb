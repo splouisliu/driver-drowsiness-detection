{
 "metadata": {
  "language_info": {
   "codemirror_mode": {
    "name": "ipython",
    "version": 3
   },
   "file_extension": ".py",
   "mimetype": "text/x-python",
   "name": "python",
   "nbconvert_exporter": "python",
   "pygments_lexer": "ipython3",
   "version": "3.9.0-final"
  },
  "orig_nbformat": 2,
  "kernelspec": {
   "name": "python3",
   "display_name": "Python 3.9.0 64-bit",
   "metadata": {
    "interpreter": {
     "hash": "63fd5069d213b44bf678585dea6b12cceca9941eaf7f819626cde1f2670de90d"
    }
   }
  }
 },
 "nbformat": 4,
 "nbformat_minor": 2,
 "cells": [
  {
   "cell_type": "code",
   "execution_count": 1,
   "metadata": {},
   "outputs": [],
   "source": [
    "import cv2\n",
    "import dlib\n",
    "import torch\n",
    "import torch.nn as nn\n",
    "import torch.nn.functional as F \n",
    "import torch.optim as optim\n",
    "from torchvision import transforms\n",
    "\n",
    "import matplotlib.pyplot as plt \n",
    "import numpy as np\n",
    "from PIL import Image\n",
    "\n",
    "import os\n",
    "import shutil\n",
    "import time"
   ]
  },
  {
   "cell_type": "code",
   "execution_count": 2,
   "metadata": {},
   "outputs": [],
   "source": [
    "detector = dlib.get_frontal_face_detector()\n",
    "predictor = dlib.shape_predictor(\"../Pretrained Detectors/shape_predictor_68_face_landmarks.dat\")"
   ]
  },
  {
   "cell_type": "code",
   "execution_count": 3,
   "metadata": {},
   "outputs": [],
   "source": [
    "counter = 0\n",
    "#cap = cv2.VideoCapture(\"../Datasets/DROZY/videos_i8/4-1.mp4\")     \n",
    "#cap = cv2.VideoCapture(0)  \n",
    "cap = cv2.VideoCapture(\"../Datasets/X/01/0.mov\")   \n",
    "\n",
    "while cap.isOpened():\n",
    "    ret, frame = cap.read()     # return status and image\n",
    "\n",
    "    if ret:\n",
    "        gray = cv2.cvtColor(frame, cv2.COLOR_BGR2GRAY) \n",
    "        faces = detector(gray)\n",
    "\n",
    "        for face in faces:\n",
    "            x1, y1, x2, y2 = face.left(), face.top(), face.right(), face.bottom()\n",
    "            \n",
    "            landmarks = predictor(gray, face)\n",
    "\n",
    "            for i in range(68):\n",
    "                x = landmarks.part(i).x\n",
    "                y = landmarks.part(i).y\n",
    "                cv2.circle(frame, (x, y), 2, (0, 255, 0 ), -1)\n",
    "\n",
    "            cv2.rectangle(frame, (face.left(), face.top()), (face.right(), face.bottom()), (255, 0, 0), 2)\n",
    "\n",
    "\n",
    "        # Display Output\n",
    "        cv2.imshow(\"img\", frame)\n",
    "\n",
    "        # Exit windows using \"q\" key\n",
    "        if cv2.waitKey(1) == ord(\"q\"):\n",
    "            break\n",
    "    \n",
    "cap.release()\n",
    "cv2.destroyAllWindows()"
   ]
  }
 ]
}