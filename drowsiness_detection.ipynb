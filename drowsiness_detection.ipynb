{
 "metadata": {
  "language_info": {
   "codemirror_mode": {
    "name": "ipython",
    "version": 3
   },
   "file_extension": ".py",
   "mimetype": "text/x-python",
   "name": "python",
   "nbconvert_exporter": "python",
   "pygments_lexer": "ipython3",
   "version": "3.8.8-final"
  },
  "orig_nbformat": 2,
  "kernelspec": {
   "name": "python388jvsc74a57bd0edd17d59108c9bdf549eba8a87bb201c398f5edc02ea5dc55defc458cb74fc3e",
   "display_name": "Python 3.8.8 64-bit"
  },
  "metadata": {
   "interpreter": {
    "hash": "edd17d59108c9bdf549eba8a87bb201c398f5edc02ea5dc55defc458cb74fc3e"
   }
  }
 },
 "nbformat": 4,
 "nbformat_minor": 2,
 "cells": [
  {
   "cell_type": "code",
   "execution_count": 2,
   "metadata": {},
   "outputs": [],
   "source": [
    "import cv2\n",
    "import dlib\n",
    "import torch\n",
    "import torch.nn as nn\n",
    "import torch.nn.functional as F \n",
    "from torchvision import transforms\n",
    "import matplotlib.pyplot as plt \n",
    "import numpy as np\n",
    "from PIL import Image, ImageOps\n",
    "\n",
    "import time"
   ]
  },
  {
   "cell_type": "code",
   "execution_count": 3,
   "metadata": {},
   "outputs": [],
   "source": [
    "class EyeClassifier(nn.Module):\n",
    "    def __init__(self):\n",
    "        super().__init__()\n",
    "        self.conv1 = nn.Conv2d(1, 16, 3)\n",
    "        self.pool = nn.MaxPool2d(2, 2)\n",
    "        self.conv2 = nn.Conv2d(16, 32, 3)\n",
    "        self.fc1 = nn.Linear(512, 256)\n",
    "        self.fc2 = nn.Linear(256, 2)\n",
    "\n",
    "    def forward(self, x):\n",
    "        x = self.pool(F.relu(self.conv1(x)))\n",
    "        x = self.pool(F.relu(self.conv2(x)))\n",
    "        x = x.view(-1, 512)\n",
    "        x = F.relu(self.fc1(x))\n",
    "        x = self.fc2(x)\n",
    "        return x"
   ]
  },
  {
   "cell_type": "code",
   "execution_count": 4,
   "metadata": {},
   "outputs": [
    {
     "output_type": "stream",
     "name": "stdout",
     "text": [
      "test.py\nd:\\UofT Winter 2021\\APS360\\v4\\driver-drowsiness-detection-main\\driver-drowsiness-detection-main\\test.py\n..\n"
     ]
    }
   ],
   "source": [
    "import os\n",
    "\n",
    "# print(os.getcwd())\n",
    "print(os.path.basename(\"test.py\"))\n",
    "print(os.path.abspath(\"test.py\"))\n",
    "print(os.path.dirname(\"../\"))"
   ]
  },
  {
   "cell_type": "code",
   "execution_count": 5,
   "metadata": {},
   "outputs": [
    {
     "output_type": "execute_result",
     "data": {
      "text/plain": [
       "EyeClassifier(\n",
       "  (conv1): Conv2d(1, 16, kernel_size=(3, 3), stride=(1, 1))\n",
       "  (pool): MaxPool2d(kernel_size=2, stride=2, padding=0, dilation=1, ceil_mode=False)\n",
       "  (conv2): Conv2d(16, 32, kernel_size=(3, 3), stride=(1, 1))\n",
       "  (fc1): Linear(in_features=512, out_features=256, bias=True)\n",
       "  (fc2): Linear(in_features=256, out_features=2, bias=True)\n",
       ")"
      ]
     },
     "metadata": {},
     "execution_count": 5
    }
   ],
   "source": [
    "# Load pre-trained face detector\n",
    "model_file = \"D://UofT Winter 2021//APS360//v4//driver-drowsiness-detection-main//driver-drowsiness-detection-main//Pretrained Detectors//res10_300x300_ssd_iter_140000.caffemodel\"\n",
    "config_file = \"D://UofT Winter 2021//APS360//v4//driver-drowsiness-detection-main//driver-drowsiness-detection-main//Pretrained Detectors//deploy.prototxt\"\n",
    "face_model = cv2.dnn.readNetFromCaffe(config_file, model_file)\n",
    "\n",
    "# Load pre-trained landmark predictor\n",
    "predictor = dlib.shape_predictor(\"D://UofT Winter 2021//APS360//v4//driver-drowsiness-detection-main//driver-drowsiness-detection-main//Pretrained Detectors//shape_predictor_68_face_landmarks.dat\")\n",
    "\n",
    "# Load CNN eye classifier\n",
    "eye_model = EyeClassifier()\n",
    "eye_model.load_state_dict(torch.load(\"./Saved Models/model2.pt\"))\n",
    "eye_model.eval()"
   ]
  },
  {
   "cell_type": "code",
   "execution_count": 6,
   "metadata": {},
   "outputs": [],
   "source": [
    "# Locates bounding box for a single face\n",
    "def detect_face(img):\n",
    "    img = cv2.cvtColor(img, cv2.COLOR_BGR2RGB)     \n",
    "    blob = cv2.dnn.blobFromImage(cv2.resize(img, (300, 300)), 1.0, (300, 300), (104.0, 177.0, 123.0))\n",
    "\n",
    "    face_model.setInput(blob)\n",
    "    detections = face_model.forward()\n",
    "\n",
    "    (x1, y1, x2, y2) = 0, 0, 0, 0\n",
    "    max_confidence = 0\n",
    "\n",
    "    for i in range(detections.shape[2]):                          \n",
    "        confidence = detections[0, 0, i, 2]\n",
    "\n",
    "        if confidence > 0.5 and confidence > max_confidence:      # Only considers predictions with > 0.5 confidence\n",
    "            (h, w) = img.shape[:2]\n",
    "            x1 = int(detections[0, 0, i, 3] * w)\n",
    "            y1 = int(detections[0, 0, i, 4] * h)\n",
    "            x2 = int(detections[0, 0, i, 5] * w)\n",
    "            y2 = int(detections[0, 0, i, 6] * h)\n",
    "\n",
    "            max_confidence = confidence                           # If multiple faces are detected, only return the one with highest confidence\n",
    "\n",
    "    return dlib.rectangle(x1, y1, x2, y2), max_confidence\n",
    "\n",
    "\n",
    "# Locates bounding box for a single eye\n",
    "def detect_eye(img, face):\n",
    "    landmarks = predictor(img, face)\n",
    "\n",
    "    if landmarks.num_parts == 0:\n",
    "        return (0, 0, 0, 0), False\n",
    "    \n",
    "    \"\"\" Below is some random math I came up with to turn LEFT eye landmarks into a square box, feel free to change\"\"\"\n",
    "    x1 = landmarks.part(17).x                   \n",
    "    x2 = landmarks.part(21).x\n",
    "    d = abs(x2-x1)\n",
    "    k = d * 0.15\n",
    "\n",
    "    x1 = x1 - int(k/2)\n",
    "    x2 = x2 + int(k/2)\n",
    "    y1 = landmarks.part(19).y - int(k/2)\n",
    "    y2 = y1 + int(d+k)\n",
    "\n",
    "    return (x1, y1, x2, y2), True"
   ]
  },
  {
   "cell_type": "code",
   "execution_count": 7,
   "metadata": {},
   "outputs": [],
   "source": [
    "# Prepares an image for CNN eye classifier\n",
    "def preprocess(img):\n",
    "    t = transforms.Compose([transforms.Resize([24, 24]), \n",
    "                            transforms.ToTensor()]) \n",
    "                            \n",
    "    img = Image.fromarray(img).convert(\"L\")\n",
    "    img = ImageOps.equalize(img)\n",
    "    img = t(img)\n",
    "\n",
    "    return img\n",
    "\n",
    "\n",
    "# Predicts eye state given a single 1x24x24 tensor\n",
    "def predict_eye_state(img):\n",
    "    outputs = eye_model(img.unsqueeze(0))\n",
    "    prob = F.softmax(outputs, dim = 1)\n",
    "    pred = outputs.argmax(dim = 1).item()\n",
    "\n",
    "    #print(f\"Probabilities: ({prob[0][0]}, {prob[0][1]})\")\n",
    "    #print(\"Prediction:\", pred)\n",
    "\n",
    "    return pred"
   ]
  },
  {
   "cell_type": "code",
   "execution_count": 24,
   "metadata": {},
   "outputs": [
    {
     "output_type": "stream",
     "name": "stdout",
     "text": [
      "1\n"
     ]
    }
   ],
   "source": [
    "path = \"d://UofT Winter 2021//APS360//v4//driver-drowsiness-detection-main//driver-drowsiness-detection-main//Sample Pictures//open.jpg\"\n",
    "frame = cv2.imread(path)\n",
    "face, confidence = detect_face(frame)\n",
    "(x1, y1, x2, y2), eye_found = detect_eye(frame, face)\n",
    "if eye_found:\n",
    "    # Eye state classification\n",
    "    eye = frame[y1:y2, x1:x2]\n",
    "    eye = preprocess(eye)\n",
    "    pred = predict_eye_state(eye)\n",
    "    # perclos_list.append(pred)\n",
    "    print(pred)\n",
    "    "
   ]
  },
  {
   "cell_type": "code",
   "execution_count": 63,
   "metadata": {},
   "outputs": [
    {
     "output_type": "stream",
     "name": "stdout",
     "text": [
      "[['3', '6', '7'], ['3', '7', '6'], ['2', '3', '4'], ['4', '8', '9'], ['3', '7', '8'], ['2', '3', '7'], ['0', '4', '9'], ['2', '6', '8'], ['2', '6', '8'], ['3', '6', '7'], ['4', '7', '7'], ['2', '5', '6'], ['6', '3', '7'], ['5', '7', '8']]\n"
     ]
    },
    {
     "output_type": "execute_result",
     "data": {
      "text/plain": [
       "'6'"
      ]
     },
     "metadata": {},
     "execution_count": 63
    }
   ],
   "source": [
    "# Read the KSS file (DROZY Dataset for testing)\n",
    "\n",
    "f = open(\"d://UofT Winter 2021//APS360//v4//driver-drowsiness-detection-main//driver-drowsiness-detection-main//Datasets//DROZY//KSS.txt\", \"r\")\n",
    "list1 = []\n",
    "string = f.read()\n",
    "string_mod = string.replace(\"\\n\", \",\")\n",
    "list1 = string_mod.split(\",\")\n",
    "for i in range(len(list1)):\n",
    "    list1[i] = list1[i].split(\" \")\n",
    "\n",
    "print(list1)\n",
    "\n",
    "def get_kss_drozy(filename, array):\n",
    "    # Assuming the filename -> \"1-2.mp4\" or \"11-2.mp4\"\n",
    "    if len(filename) == 7:\n",
    "        index1 = int(filename[0])\n",
    "        index2 = int(filename[2])\n",
    "    else:\n",
    "        index1 = int(filename[1])+10\n",
    "        index2 = int(filename[4])\n",
    "    return array[index1][index2]\n",
    "\n",
    "get_kss_drozy(\"1-2.mp4\", list1)"
   ]
  },
  {
   "cell_type": "code",
   "execution_count": 50,
   "metadata": {
    "tags": []
   },
   "outputs": [
    {
     "output_type": "stream",
     "name": "stdout",
     "text": [
      "1801\n80\n"
     ]
    }
   ],
   "source": [
    "cap = cv2.VideoCapture(\"d://UofT Winter 2021//APS360//v4//driver-drowsiness-detection-main//driver-drowsiness-detection-main//Datasets//DROZY/videos_i8//1-2.mp4\")    \n",
    "#cap = cv2.VideoCapture(\"./Datasets/X/04/5.mp4\")   \n",
    "#cap = cv2.VideoCapture(0)\n",
    "\n",
    "perclos_list = []\n",
    "closed_list = []\n",
    "\n",
    "counter = 0\n",
    "while cap.isOpened():\n",
    "    if counter > 1799:\n",
    "        break\n",
    "    ret, frame = cap.read()     # return status and image\n",
    "    if not ret:\n",
    "        print(\"Can't retreive frame\")\n",
    "        break\n",
    "    # print(ret)\n",
    "    # break\n",
    "\n",
    "    time.sleep(0.05)             # too see blinks clearly\n",
    "\n",
    "    # Face detection\n",
    "    face, confidence = detect_face(frame)\n",
    "    # print(confidence)\n",
    "    # break\n",
    "\n",
    "    if confidence > 0:\n",
    "\n",
    "        # Eye detection\n",
    "        (x1, y1, x2, y2), eye_found = detect_eye(frame, face)\n",
    "\n",
    "        if eye_found:\n",
    "            # Eye state classification\n",
    "            eye = frame[y1:y2, x1:x2]\n",
    "            eye = preprocess(eye)\n",
    "            pred = predict_eye_state(eye)\n",
    "            perclos_list.append(pred)\n",
    "\n",
    "            \"\"\"ADD KSS IF AND ELSE STATEMENTS\"\"\"\n",
    "\n",
    "            if(pred == 0):\n",
    "                cv2.putText(frame, \"Closed\", (x1, y1), cv2.FONT_HERSHEY_SIMPLEX, 0.8, (0, 0, 255), 2)\n",
    "                closed_list.append(pred)\n",
    "\n",
    "        # Rectangle visuals\n",
    "        cv2.rectangle(frame, (x1, y1), (x2, y2), (0, 255, 0), 1)\n",
    "        cv2.rectangle(frame, (face.left(), face.top()), (face.right(), face.bottom()), (255, 0, 0), 2)\n",
    "        confidence_txt = \"{:.2f}%\".format(confidence * 100)\n",
    "        cv2.putText(frame, confidence_txt, (face.left(), face.top()), cv2.FONT_HERSHEY_SIMPLEX, 0.45, (0, 0, 255), 1)\n",
    "\n",
    "\n",
    "    # Display frame\n",
    "    # cv2.imshow(\"img\", frame)\n",
    "\n",
    "    # Exit window using \"q\" key\n",
    "    if cv2.waitKey(1) == ord(\"q\"):\n",
    "        break\n",
    "    counter+=1\n",
    "\n",
    "\n",
    "cap.release()\n",
    "cv2.destroyAllWindows()\n",
    "\n",
    "print(len(perclos_list))\n",
    "print(len(closed_list))"
   ]
  },
  {
   "cell_type": "code",
   "execution_count": 48,
   "metadata": {},
   "outputs": [
    {
     "output_type": "stream",
     "name": "stdout",
     "text": [
      "17865\n1069\n"
     ]
    }
   ],
   "source": [
    "print(len(perclos_list))\n",
    "print(len(closed_list))"
   ]
  },
  {
   "cell_type": "code",
   "execution_count": 49,
   "metadata": {},
   "outputs": [
    {
     "output_type": "display_data",
     "data": {
      "text/plain": "<Figure size 432x288 with 1 Axes>",
      "image/svg+xml": "<?xml version=\"1.0\" encoding=\"utf-8\" standalone=\"no\"?>\r\n<!DOCTYPE svg PUBLIC \"-//W3C//DTD SVG 1.1//EN\"\r\n  \"http://www.w3.org/Graphics/SVG/1.1/DTD/svg11.dtd\">\r\n<svg height=\"248.518125pt\" version=\"1.1\" viewBox=\"0 0 372.103125 248.518125\" width=\"372.103125pt\" xmlns=\"http://www.w3.org/2000/svg\" xmlns:xlink=\"http://www.w3.org/1999/xlink\">\r\n <metadata>\r\n  <rdf:RDF xmlns:cc=\"http://creativecommons.org/ns#\" xmlns:dc=\"http://purl.org/dc/elements/1.1/\" xmlns:rdf=\"http://www.w3.org/1999/02/22-rdf-syntax-ns#\">\r\n   <cc:Work>\r\n    <dc:type rdf:resource=\"http://purl.org/dc/dcmitype/StillImage\"/>\r\n    <dc:date>2021-04-01T23:47:58.516791</dc:date>\r\n    <dc:format>image/svg+xml</dc:format>\r\n    <dc:creator>\r\n     <cc:Agent>\r\n      <dc:title>Matplotlib v3.4.1, https://matplotlib.org/</dc:title>\r\n     </cc:Agent>\r\n    </dc:creator>\r\n   </cc:Work>\r\n  </rdf:RDF>\r\n </metadata>\r\n <defs>\r\n  <style type=\"text/css\">*{stroke-linecap:butt;stroke-linejoin:round;}</style>\r\n </defs>\r\n <g id=\"figure_1\">\r\n  <g id=\"patch_1\">\r\n   <path d=\"M 0 248.518125 \r\nL 372.103125 248.518125 \r\nL 372.103125 0 \r\nL 0 0 \r\nz\r\n\" style=\"fill:none;\"/>\r\n  </g>\r\n  <g id=\"axes_1\">\r\n   <g id=\"patch_2\">\r\n    <path d=\"M 30.103125 224.64 \r\nL 364.903125 224.64 \r\nL 364.903125 7.2 \r\nL 30.103125 7.2 \r\nz\r\n\" style=\"fill:#ffffff;\"/>\r\n   </g>\r\n   <g id=\"matplotlib.axis_1\">\r\n    <g id=\"xtick_1\">\r\n     <g id=\"line2d_1\">\r\n      <defs>\r\n       <path d=\"M 0 0 \r\nL 0 3.5 \r\n\" id=\"mfbe5a1df12\" style=\"stroke:#000000;stroke-width:0.8;\"/>\r\n      </defs>\r\n      <g>\r\n       <use style=\"stroke:#000000;stroke-width:0.8;\" x=\"45.321307\" xlink:href=\"#mfbe5a1df12\" y=\"224.64\"/>\r\n      </g>\r\n     </g>\r\n     <g id=\"text_1\">\r\n      <!-- 0 -->\r\n      <g transform=\"translate(42.140057 239.238437)scale(0.1 -0.1)\">\r\n       <defs>\r\n        <path d=\"M 2034 4250 \r\nQ 1547 4250 1301 3770 \r\nQ 1056 3291 1056 2328 \r\nQ 1056 1369 1301 889 \r\nQ 1547 409 2034 409 \r\nQ 2525 409 2770 889 \r\nQ 3016 1369 3016 2328 \r\nQ 3016 3291 2770 3770 \r\nQ 2525 4250 2034 4250 \r\nz\r\nM 2034 4750 \r\nQ 2819 4750 3233 4129 \r\nQ 3647 3509 3647 2328 \r\nQ 3647 1150 3233 529 \r\nQ 2819 -91 2034 -91 \r\nQ 1250 -91 836 529 \r\nQ 422 1150 422 2328 \r\nQ 422 3509 836 4129 \r\nQ 1250 4750 2034 4750 \r\nz\r\n\" id=\"DejaVuSans-30\" transform=\"scale(0.015625)\"/>\r\n       </defs>\r\n       <use xlink:href=\"#DejaVuSans-30\"/>\r\n      </g>\r\n     </g>\r\n    </g>\r\n    <g id=\"xtick_2\">\r\n     <g id=\"line2d_2\">\r\n      <g>\r\n       <use style=\"stroke:#000000;stroke-width:0.8;\" x=\"87.91586\" xlink:href=\"#mfbe5a1df12\" y=\"224.64\"/>\r\n      </g>\r\n     </g>\r\n     <g id=\"text_2\">\r\n      <!-- 2500 -->\r\n      <g transform=\"translate(75.19086 239.238437)scale(0.1 -0.1)\">\r\n       <defs>\r\n        <path d=\"M 1228 531 \r\nL 3431 531 \r\nL 3431 0 \r\nL 469 0 \r\nL 469 531 \r\nQ 828 903 1448 1529 \r\nQ 2069 2156 2228 2338 \r\nQ 2531 2678 2651 2914 \r\nQ 2772 3150 2772 3378 \r\nQ 2772 3750 2511 3984 \r\nQ 2250 4219 1831 4219 \r\nQ 1534 4219 1204 4116 \r\nQ 875 4013 500 3803 \r\nL 500 4441 \r\nQ 881 4594 1212 4672 \r\nQ 1544 4750 1819 4750 \r\nQ 2544 4750 2975 4387 \r\nQ 3406 4025 3406 3419 \r\nQ 3406 3131 3298 2873 \r\nQ 3191 2616 2906 2266 \r\nQ 2828 2175 2409 1742 \r\nQ 1991 1309 1228 531 \r\nz\r\n\" id=\"DejaVuSans-32\" transform=\"scale(0.015625)\"/>\r\n        <path d=\"M 691 4666 \r\nL 3169 4666 \r\nL 3169 4134 \r\nL 1269 4134 \r\nL 1269 2991 \r\nQ 1406 3038 1543 3061 \r\nQ 1681 3084 1819 3084 \r\nQ 2600 3084 3056 2656 \r\nQ 3513 2228 3513 1497 \r\nQ 3513 744 3044 326 \r\nQ 2575 -91 1722 -91 \r\nQ 1428 -91 1123 -41 \r\nQ 819 9 494 109 \r\nL 494 744 \r\nQ 775 591 1075 516 \r\nQ 1375 441 1709 441 \r\nQ 2250 441 2565 725 \r\nQ 2881 1009 2881 1497 \r\nQ 2881 1984 2565 2268 \r\nQ 2250 2553 1709 2553 \r\nQ 1456 2553 1204 2497 \r\nQ 953 2441 691 2322 \r\nL 691 4666 \r\nz\r\n\" id=\"DejaVuSans-35\" transform=\"scale(0.015625)\"/>\r\n       </defs>\r\n       <use xlink:href=\"#DejaVuSans-32\"/>\r\n       <use x=\"63.623047\" xlink:href=\"#DejaVuSans-35\"/>\r\n       <use x=\"127.246094\" xlink:href=\"#DejaVuSans-30\"/>\r\n       <use x=\"190.869141\" xlink:href=\"#DejaVuSans-30\"/>\r\n      </g>\r\n     </g>\r\n    </g>\r\n    <g id=\"xtick_3\">\r\n     <g id=\"line2d_3\">\r\n      <g>\r\n       <use style=\"stroke:#000000;stroke-width:0.8;\" x=\"130.510412\" xlink:href=\"#mfbe5a1df12\" y=\"224.64\"/>\r\n      </g>\r\n     </g>\r\n     <g id=\"text_3\">\r\n      <!-- 5000 -->\r\n      <g transform=\"translate(117.785412 239.238437)scale(0.1 -0.1)\">\r\n       <use xlink:href=\"#DejaVuSans-35\"/>\r\n       <use x=\"63.623047\" xlink:href=\"#DejaVuSans-30\"/>\r\n       <use x=\"127.246094\" xlink:href=\"#DejaVuSans-30\"/>\r\n       <use x=\"190.869141\" xlink:href=\"#DejaVuSans-30\"/>\r\n      </g>\r\n     </g>\r\n    </g>\r\n    <g id=\"xtick_4\">\r\n     <g id=\"line2d_4\">\r\n      <g>\r\n       <use style=\"stroke:#000000;stroke-width:0.8;\" x=\"173.104965\" xlink:href=\"#mfbe5a1df12\" y=\"224.64\"/>\r\n      </g>\r\n     </g>\r\n     <g id=\"text_4\">\r\n      <!-- 7500 -->\r\n      <g transform=\"translate(160.379965 239.238437)scale(0.1 -0.1)\">\r\n       <defs>\r\n        <path d=\"M 525 4666 \r\nL 3525 4666 \r\nL 3525 4397 \r\nL 1831 0 \r\nL 1172 0 \r\nL 2766 4134 \r\nL 525 4134 \r\nL 525 4666 \r\nz\r\n\" id=\"DejaVuSans-37\" transform=\"scale(0.015625)\"/>\r\n       </defs>\r\n       <use xlink:href=\"#DejaVuSans-37\"/>\r\n       <use x=\"63.623047\" xlink:href=\"#DejaVuSans-35\"/>\r\n       <use x=\"127.246094\" xlink:href=\"#DejaVuSans-30\"/>\r\n       <use x=\"190.869141\" xlink:href=\"#DejaVuSans-30\"/>\r\n      </g>\r\n     </g>\r\n    </g>\r\n    <g id=\"xtick_5\">\r\n     <g id=\"line2d_5\">\r\n      <g>\r\n       <use style=\"stroke:#000000;stroke-width:0.8;\" x=\"215.699518\" xlink:href=\"#mfbe5a1df12\" y=\"224.64\"/>\r\n      </g>\r\n     </g>\r\n     <g id=\"text_5\">\r\n      <!-- 10000 -->\r\n      <g transform=\"translate(199.793268 239.238437)scale(0.1 -0.1)\">\r\n       <defs>\r\n        <path d=\"M 794 531 \r\nL 1825 531 \r\nL 1825 4091 \r\nL 703 3866 \r\nL 703 4441 \r\nL 1819 4666 \r\nL 2450 4666 \r\nL 2450 531 \r\nL 3481 531 \r\nL 3481 0 \r\nL 794 0 \r\nL 794 531 \r\nz\r\n\" id=\"DejaVuSans-31\" transform=\"scale(0.015625)\"/>\r\n       </defs>\r\n       <use xlink:href=\"#DejaVuSans-31\"/>\r\n       <use x=\"63.623047\" xlink:href=\"#DejaVuSans-30\"/>\r\n       <use x=\"127.246094\" xlink:href=\"#DejaVuSans-30\"/>\r\n       <use x=\"190.869141\" xlink:href=\"#DejaVuSans-30\"/>\r\n       <use x=\"254.492188\" xlink:href=\"#DejaVuSans-30\"/>\r\n      </g>\r\n     </g>\r\n    </g>\r\n    <g id=\"xtick_6\">\r\n     <g id=\"line2d_6\">\r\n      <g>\r\n       <use style=\"stroke:#000000;stroke-width:0.8;\" x=\"258.294071\" xlink:href=\"#mfbe5a1df12\" y=\"224.64\"/>\r\n      </g>\r\n     </g>\r\n     <g id=\"text_6\">\r\n      <!-- 12500 -->\r\n      <g transform=\"translate(242.387821 239.238437)scale(0.1 -0.1)\">\r\n       <use xlink:href=\"#DejaVuSans-31\"/>\r\n       <use x=\"63.623047\" xlink:href=\"#DejaVuSans-32\"/>\r\n       <use x=\"127.246094\" xlink:href=\"#DejaVuSans-35\"/>\r\n       <use x=\"190.869141\" xlink:href=\"#DejaVuSans-30\"/>\r\n       <use x=\"254.492188\" xlink:href=\"#DejaVuSans-30\"/>\r\n      </g>\r\n     </g>\r\n    </g>\r\n    <g id=\"xtick_7\">\r\n     <g id=\"line2d_7\">\r\n      <g>\r\n       <use style=\"stroke:#000000;stroke-width:0.8;\" x=\"300.888624\" xlink:href=\"#mfbe5a1df12\" y=\"224.64\"/>\r\n      </g>\r\n     </g>\r\n     <g id=\"text_7\">\r\n      <!-- 15000 -->\r\n      <g transform=\"translate(284.982374 239.238437)scale(0.1 -0.1)\">\r\n       <use xlink:href=\"#DejaVuSans-31\"/>\r\n       <use x=\"63.623047\" xlink:href=\"#DejaVuSans-35\"/>\r\n       <use x=\"127.246094\" xlink:href=\"#DejaVuSans-30\"/>\r\n       <use x=\"190.869141\" xlink:href=\"#DejaVuSans-30\"/>\r\n       <use x=\"254.492188\" xlink:href=\"#DejaVuSans-30\"/>\r\n      </g>\r\n     </g>\r\n    </g>\r\n    <g id=\"xtick_8\">\r\n     <g id=\"line2d_8\">\r\n      <g>\r\n       <use style=\"stroke:#000000;stroke-width:0.8;\" x=\"343.483176\" xlink:href=\"#mfbe5a1df12\" y=\"224.64\"/>\r\n      </g>\r\n     </g>\r\n     <g id=\"text_8\">\r\n      <!-- 17500 -->\r\n      <g transform=\"translate(327.576926 239.238437)scale(0.1 -0.1)\">\r\n       <use xlink:href=\"#DejaVuSans-31\"/>\r\n       <use x=\"63.623047\" xlink:href=\"#DejaVuSans-37\"/>\r\n       <use x=\"127.246094\" xlink:href=\"#DejaVuSans-35\"/>\r\n       <use x=\"190.869141\" xlink:href=\"#DejaVuSans-30\"/>\r\n       <use x=\"254.492188\" xlink:href=\"#DejaVuSans-30\"/>\r\n      </g>\r\n     </g>\r\n    </g>\r\n   </g>\r\n   <g id=\"matplotlib.axis_2\">\r\n    <g id=\"ytick_1\">\r\n     <g id=\"line2d_9\">\r\n      <defs>\r\n       <path d=\"M 0 0 \r\nL -3.5 0 \r\n\" id=\"m2565b57263\" style=\"stroke:#000000;stroke-width:0.8;\"/>\r\n      </defs>\r\n      <g>\r\n       <use style=\"stroke:#000000;stroke-width:0.8;\" x=\"30.103125\" xlink:href=\"#m2565b57263\" y=\"214.756364\"/>\r\n      </g>\r\n     </g>\r\n     <g id=\"text_9\">\r\n      <!-- 0.0 -->\r\n      <g transform=\"translate(7.2 218.555582)scale(0.1 -0.1)\">\r\n       <defs>\r\n        <path d=\"M 684 794 \r\nL 1344 794 \r\nL 1344 0 \r\nL 684 0 \r\nL 684 794 \r\nz\r\n\" id=\"DejaVuSans-2e\" transform=\"scale(0.015625)\"/>\r\n       </defs>\r\n       <use xlink:href=\"#DejaVuSans-30\"/>\r\n       <use x=\"63.623047\" xlink:href=\"#DejaVuSans-2e\"/>\r\n       <use x=\"95.410156\" xlink:href=\"#DejaVuSans-30\"/>\r\n      </g>\r\n     </g>\r\n    </g>\r\n    <g id=\"ytick_2\">\r\n     <g id=\"line2d_10\">\r\n      <g>\r\n       <use style=\"stroke:#000000;stroke-width:0.8;\" x=\"30.103125\" xlink:href=\"#m2565b57263\" y=\"175.221818\"/>\r\n      </g>\r\n     </g>\r\n     <g id=\"text_10\">\r\n      <!-- 0.2 -->\r\n      <g transform=\"translate(7.2 179.021037)scale(0.1 -0.1)\">\r\n       <use xlink:href=\"#DejaVuSans-30\"/>\r\n       <use x=\"63.623047\" xlink:href=\"#DejaVuSans-2e\"/>\r\n       <use x=\"95.410156\" xlink:href=\"#DejaVuSans-32\"/>\r\n      </g>\r\n     </g>\r\n    </g>\r\n    <g id=\"ytick_3\">\r\n     <g id=\"line2d_11\">\r\n      <g>\r\n       <use style=\"stroke:#000000;stroke-width:0.8;\" x=\"30.103125\" xlink:href=\"#m2565b57263\" y=\"135.687273\"/>\r\n      </g>\r\n     </g>\r\n     <g id=\"text_11\">\r\n      <!-- 0.4 -->\r\n      <g transform=\"translate(7.2 139.486491)scale(0.1 -0.1)\">\r\n       <defs>\r\n        <path d=\"M 2419 4116 \r\nL 825 1625 \r\nL 2419 1625 \r\nL 2419 4116 \r\nz\r\nM 2253 4666 \r\nL 3047 4666 \r\nL 3047 1625 \r\nL 3713 1625 \r\nL 3713 1100 \r\nL 3047 1100 \r\nL 3047 0 \r\nL 2419 0 \r\nL 2419 1100 \r\nL 313 1100 \r\nL 313 1709 \r\nL 2253 4666 \r\nz\r\n\" id=\"DejaVuSans-34\" transform=\"scale(0.015625)\"/>\r\n       </defs>\r\n       <use xlink:href=\"#DejaVuSans-30\"/>\r\n       <use x=\"63.623047\" xlink:href=\"#DejaVuSans-2e\"/>\r\n       <use x=\"95.410156\" xlink:href=\"#DejaVuSans-34\"/>\r\n      </g>\r\n     </g>\r\n    </g>\r\n    <g id=\"ytick_4\">\r\n     <g id=\"line2d_12\">\r\n      <g>\r\n       <use style=\"stroke:#000000;stroke-width:0.8;\" x=\"30.103125\" xlink:href=\"#m2565b57263\" y=\"96.152727\"/>\r\n      </g>\r\n     </g>\r\n     <g id=\"text_12\">\r\n      <!-- 0.6 -->\r\n      <g transform=\"translate(7.2 99.951946)scale(0.1 -0.1)\">\r\n       <defs>\r\n        <path d=\"M 2113 2584 \r\nQ 1688 2584 1439 2293 \r\nQ 1191 2003 1191 1497 \r\nQ 1191 994 1439 701 \r\nQ 1688 409 2113 409 \r\nQ 2538 409 2786 701 \r\nQ 3034 994 3034 1497 \r\nQ 3034 2003 2786 2293 \r\nQ 2538 2584 2113 2584 \r\nz\r\nM 3366 4563 \r\nL 3366 3988 \r\nQ 3128 4100 2886 4159 \r\nQ 2644 4219 2406 4219 \r\nQ 1781 4219 1451 3797 \r\nQ 1122 3375 1075 2522 \r\nQ 1259 2794 1537 2939 \r\nQ 1816 3084 2150 3084 \r\nQ 2853 3084 3261 2657 \r\nQ 3669 2231 3669 1497 \r\nQ 3669 778 3244 343 \r\nQ 2819 -91 2113 -91 \r\nQ 1303 -91 875 529 \r\nQ 447 1150 447 2328 \r\nQ 447 3434 972 4092 \r\nQ 1497 4750 2381 4750 \r\nQ 2619 4750 2861 4703 \r\nQ 3103 4656 3366 4563 \r\nz\r\n\" id=\"DejaVuSans-36\" transform=\"scale(0.015625)\"/>\r\n       </defs>\r\n       <use xlink:href=\"#DejaVuSans-30\"/>\r\n       <use x=\"63.623047\" xlink:href=\"#DejaVuSans-2e\"/>\r\n       <use x=\"95.410156\" xlink:href=\"#DejaVuSans-36\"/>\r\n      </g>\r\n     </g>\r\n    </g>\r\n    <g id=\"ytick_5\">\r\n     <g id=\"line2d_13\">\r\n      <g>\r\n       <use style=\"stroke:#000000;stroke-width:0.8;\" x=\"30.103125\" xlink:href=\"#m2565b57263\" y=\"56.618182\"/>\r\n      </g>\r\n     </g>\r\n     <g id=\"text_13\">\r\n      <!-- 0.8 -->\r\n      <g transform=\"translate(7.2 60.417401)scale(0.1 -0.1)\">\r\n       <defs>\r\n        <path d=\"M 2034 2216 \r\nQ 1584 2216 1326 1975 \r\nQ 1069 1734 1069 1313 \r\nQ 1069 891 1326 650 \r\nQ 1584 409 2034 409 \r\nQ 2484 409 2743 651 \r\nQ 3003 894 3003 1313 \r\nQ 3003 1734 2745 1975 \r\nQ 2488 2216 2034 2216 \r\nz\r\nM 1403 2484 \r\nQ 997 2584 770 2862 \r\nQ 544 3141 544 3541 \r\nQ 544 4100 942 4425 \r\nQ 1341 4750 2034 4750 \r\nQ 2731 4750 3128 4425 \r\nQ 3525 4100 3525 3541 \r\nQ 3525 3141 3298 2862 \r\nQ 3072 2584 2669 2484 \r\nQ 3125 2378 3379 2068 \r\nQ 3634 1759 3634 1313 \r\nQ 3634 634 3220 271 \r\nQ 2806 -91 2034 -91 \r\nQ 1263 -91 848 271 \r\nQ 434 634 434 1313 \r\nQ 434 1759 690 2068 \r\nQ 947 2378 1403 2484 \r\nz\r\nM 1172 3481 \r\nQ 1172 3119 1398 2916 \r\nQ 1625 2713 2034 2713 \r\nQ 2441 2713 2670 2916 \r\nQ 2900 3119 2900 3481 \r\nQ 2900 3844 2670 4047 \r\nQ 2441 4250 2034 4250 \r\nQ 1625 4250 1398 4047 \r\nQ 1172 3844 1172 3481 \r\nz\r\n\" id=\"DejaVuSans-38\" transform=\"scale(0.015625)\"/>\r\n       </defs>\r\n       <use xlink:href=\"#DejaVuSans-30\"/>\r\n       <use x=\"63.623047\" xlink:href=\"#DejaVuSans-2e\"/>\r\n       <use x=\"95.410156\" xlink:href=\"#DejaVuSans-38\"/>\r\n      </g>\r\n     </g>\r\n    </g>\r\n    <g id=\"ytick_6\">\r\n     <g id=\"line2d_14\">\r\n      <g>\r\n       <use style=\"stroke:#000000;stroke-width:0.8;\" x=\"30.103125\" xlink:href=\"#m2565b57263\" y=\"17.083636\"/>\r\n      </g>\r\n     </g>\r\n     <g id=\"text_14\">\r\n      <!-- 1.0 -->\r\n      <g transform=\"translate(7.2 20.882855)scale(0.1 -0.1)\">\r\n       <use xlink:href=\"#DejaVuSans-31\"/>\r\n       <use x=\"63.623047\" xlink:href=\"#DejaVuSans-2e\"/>\r\n       <use x=\"95.410156\" xlink:href=\"#DejaVuSans-30\"/>\r\n      </g>\r\n     </g>\r\n    </g>\r\n   </g>\r\n   <g id=\"line2d_15\">\r\n    <path clip-path=\"url(#pe209f6eeee)\" d=\"M 45.321307 17.083636 \r\nL 46.088009 17.083636 \r\nL 46.139122 214.756364 \r\nL 46.190236 17.083636 \r\nL 46.718408 17.083636 \r\nL 46.769522 214.756364 \r\nL 46.820635 17.083636 \r\nL 47.127316 17.083636 \r\nL 47.161391 214.756364 \r\nL 47.229543 17.083636 \r\nL 47.706602 17.083636 \r\nL 47.757715 214.756364 \r\nL 47.808829 17.083636 \r\nL 48.200699 17.083636 \r\nL 48.251812 214.756364 \r\nL 48.302926 17.083636 \r\nL 48.984438 17.083636 \r\nL 49.018514 214.756364 \r\nL 49.086665 17.083636 \r\nL 49.631876 17.083636 \r\nL 49.665951 214.756364 \r\nL 49.734102 17.083636 \r\nL 50.211161 17.083636 \r\nL 50.228199 214.756364 \r\nL 50.313388 17.083636 \r\nL 50.585994 17.083636 \r\nL 50.620069 214.756364 \r\nL 50.68822 17.083636 \r\nL 51.301582 17.083636 \r\nL 51.31862 214.756364 \r\nL 51.403809 17.083636 \r\nL 51.795679 17.083636 \r\nL 51.846792 214.756364 \r\nL 51.897906 17.083636 \r\nL 52.49423 17.083636 \r\nL 52.528305 214.756364 \r\nL 52.596456 17.083636 \r\nL 52.903137 17.083636 \r\nL 52.954251 214.756364 \r\nL 53.005364 17.083636 \r\nL 54.010596 17.083636 \r\nL 54.027633 214.756364 \r\nL 54.112823 17.083636 \r\nL 54.675071 17.083636 \r\nL 54.726184 214.756364 \r\nL 54.777298 17.083636 \r\nL 55.135092 17.083636 \r\nL 55.186205 214.756364 \r\nL 55.237319 17.083636 \r\nL 56.225512 17.083636 \r\nL 56.24255 214.756364 \r\nL 56.327739 17.083636 \r\nL 56.702571 17.083636 \r\nL 56.753685 214.756364 \r\nL 56.804798 17.083636 \r\nL 59.036753 17.083636 \r\nL 59.087866 214.756364 \r\nL 59.13898 17.083636 \r\nL 59.207131 17.083636 \r\nL 59.241207 214.756364 \r\nL 59.309358 17.083636 \r\nL 59.581963 17.083636 \r\nL 59.616039 214.756364 \r\nL 59.68419 17.083636 \r\nL 59.718266 17.083636 \r\nL 59.769379 214.756364 \r\nL 59.820493 17.083636 \r\nL 60.161249 17.083636 \r\nL 60.212362 214.756364 \r\nL 60.263476 17.083636 \r\nL 60.706459 17.083636 \r\nL 60.757573 214.756364 \r\nL 60.808686 17.083636 \r\nL 61.660577 17.083636 \r\nL 61.711691 214.756364 \r\nL 61.762804 17.083636 \r\nL 62.665809 17.083636 \r\nL 62.716922 214.756364 \r\nL 62.768036 17.083636 \r\nL 63.619927 17.083636 \r\nL 63.67104 214.756364 \r\nL 63.722154 17.083636 \r\nL 64.079948 17.083636 \r\nL 64.131061 214.756364 \r\nL 64.182175 17.083636 \r\nL 64.727385 17.083636 \r\nL 64.761461 214.756364 \r\nL 64.829612 17.083636 \r\nL 65.562238 17.083636 \r\nL 65.613352 214.756364 \r\nL 65.664465 17.083636 \r\nL 68.68016 17.083636 \r\nL 68.714235 214.756364 \r\nL 68.782386 17.083636 \r\nL 69.327597 17.083636 \r\nL 69.37871 214.756364 \r\nL 69.429824 17.083636 \r\nL 69.804656 17.083636 \r\nL 69.821694 214.756364 \r\nL 69.906883 17.083636 \r\nL 70.298753 17.083636 \r\nL 70.349866 214.756364 \r\nL 70.400979 17.083636 \r\nL 71.014341 17.083636 \r\nL 71.065455 214.756364 \r\nL 71.116568 17.083636 \r\nL 71.525476 17.083636 \r\nL 71.576589 214.756364 \r\nL 71.627703 17.083636 \r\nL 72.360329 17.083636 \r\nL 72.411442 214.756364 \r\nL 72.462556 17.083636 \r\nL 72.854426 17.083636 \r\nL 72.922577 214.756364 \r\nL 72.956653 17.083636 \r\nL 73.21222 17.083636 \r\nL 73.246296 214.756364 \r\nL 73.314447 17.083636 \r\nL 74.507094 17.083636 \r\nL 74.558208 214.756364 \r\nL 74.609321 17.083636 \r\nL 75.767893 17.083636 \r\nL 75.819007 214.756364 \r\nL 75.87012 17.083636 \r\nL 76.381255 17.083636 \r\nL 76.41533 214.756364 \r\nL 76.483482 17.083636 \r\nL 76.994616 17.083636 \r\nL 77.028692 214.756364 \r\nL 77.096843 17.083636 \r\nL 77.19907 17.083636 \r\nL 77.267221 214.756364 \r\nL 77.301297 17.083636 \r\nL 77.914659 17.083636 \r\nL 77.98281 214.756364 \r\nL 78.016886 17.083636 \r\nL 78.357642 17.083636 \r\nL 78.37468 214.756364 \r\nL 78.459869 17.083636 \r\nL 78.613209 17.083636 \r\nL 78.681361 214.756364 \r\nL 78.715436 17.083636 \r\nL 79.056193 17.083636 \r\nL 79.107306 214.756364 \r\nL 79.15842 17.083636 \r\nL 80.40218 17.083636 \r\nL 80.453294 214.756364 \r\nL 80.504407 17.083636 \r\nL 82.088925 17.083636 \r\nL 82.123 214.756364 \r\nL 82.191152 17.083636 \r\nL 82.395606 17.083636 \r\nL 82.446719 214.756364 \r\nL 82.497832 17.083636 \r\nL 82.855627 17.083636 \r\nL 82.90674 214.756364 \r\nL 82.957854 17.083636 \r\nL 83.332686 17.083636 \r\nL 83.366761 214.756364 \r\nL 83.434913 17.083636 \r\nL 83.826783 17.083636 \r\nL 83.894934 214.756364 \r\nL 83.929009 17.083636 \r\nL 85.002392 17.083636 \r\nL 85.036468 214.756364 \r\nL 85.104619 17.083636 \r\nL 85.513527 17.083636 \r\nL 85.581678 214.756364 \r\nL 85.615754 17.083636 \r\nL 85.95651 17.083636 \r\nL 86.024661 214.756364 \r\nL 86.058737 17.083636 \r\nL 87.098044 17.083636 \r\nL 87.13212 214.756364 \r\nL 87.200271 17.083636 \r\nL 88.086238 17.083636 \r\nL 88.137351 214.756364 \r\nL 88.188465 17.083636 \r\nL 88.478108 17.083636 \r\nL 88.529221 214.756364 \r\nL 88.580335 17.083636 \r\nL 88.85294 17.083636 \r\nL 88.972205 214.756364 \r\nL 89.091469 214.756364 \r\nL 89.210734 17.083636 \r\nL 89.653717 17.083636 \r\nL 89.704831 214.756364 \r\nL 89.755944 17.083636 \r\nL 91.238235 17.083636 \r\nL 91.357499 214.756364 \r\nL 91.408613 214.756364 \r\nL 91.527878 17.083636 \r\nL 91.868634 17.083636 \r\nL 91.919748 214.756364 \r\nL 91.970861 17.083636 \r\nL 92.499033 17.083636 \r\nL 92.533109 214.756364 \r\nL 92.60126 17.083636 \r\nL 93.112395 17.083636 \r\nL 93.146471 214.756364 \r\nL 93.214622 17.083636 \r\nL 93.810946 17.083636 \r\nL 93.845021 214.756364 \r\nL 93.913173 17.083636 \r\nL 94.16874 17.083636 \r\nL 94.219853 214.756364 \r\nL 94.270967 17.083636 \r\nL 94.662837 17.083636 \r\nL 94.71395 214.756364 \r\nL 94.765064 17.083636 \r\nL 95.616955 17.083636 \r\nL 95.65103 214.756364 \r\nL 95.719182 17.083636 \r\nL 96.076976 17.083636 \r\nL 96.145127 214.756364 \r\nL 96.179203 17.083636 \r\nL 96.298468 17.083636 \r\nL 96.349581 214.756364 \r\nL 96.400695 17.083636 \r\nL 98.036325 17.083636 \r\nL 98.087439 214.756364 \r\nL 98.138552 17.083636 \r\nL 98.683763 17.083636 \r\nL 98.734876 214.756364 \r\nL 98.785989 17.083636 \r\nL 99.671956 17.083636 \r\nL 99.706032 214.756364 \r\nL 99.774183 17.083636 \r\nL 99.961599 17.083636 \r\nL 100.012713 214.756364 \r\nL 100.063826 17.083636 \r\nL 100.234204 17.083636 \r\nL 100.353469 214.756364 \r\nL 100.387545 214.756364 \r\nL 100.506809 17.083636 \r\nL 101.648343 17.083636 \r\nL 101.699457 214.756364 \r\nL 101.75057 17.083636 \r\nL 102.721726 17.083636 \r\nL 102.823953 214.756364 \r\nL 102.943218 17.083636 \r\nL 103.352126 17.083636 \r\nL 103.403239 214.756364 \r\nL 103.454352 17.083636 \r\nL 103.47139 17.083636 \r\nL 103.539542 214.756364 \r\nL 103.573617 17.083636 \r\nL 104.118827 17.083636 \r\nL 104.152903 214.756364 \r\nL 104.221054 17.083636 \r\nL 106.333744 17.083636 \r\nL 106.36782 214.756364 \r\nL 106.435971 17.083636 \r\nL 106.75969 17.083636 \r\nL 106.844879 214.756364 \r\nL 106.861917 17.083636 \r\nL 107.321938 17.083636 \r\nL 107.356013 214.756364 \r\nL 107.424165 17.083636 \r\nL 108.08864 17.083636 \r\nL 108.139753 214.756364 \r\nL 108.190867 17.083636 \r\nL 110.320594 17.083636 \r\nL 110.371708 214.756364 \r\nL 110.422821 17.083636 \r\nL 112.944419 17.083636 \r\nL 112.978494 214.756364 \r\nL 113.046646 17.083636 \r\nL 113.438516 17.083636 \r\nL 113.472591 214.756364 \r\nL 113.540743 17.083636 \r\nL 113.830386 17.083636 \r\nL 113.864461 214.756364 \r\nL 113.932612 17.083636 \r\nL 115.261562 17.083636 \r\nL 115.312676 214.756364 \r\nL 115.363789 17.083636 \r\nL 116.028264 17.083636 \r\nL 116.045302 214.756364 \r\nL 116.130491 17.083636 \r\nL 116.45421 17.083636 \r\nL 116.488286 214.756364 \r\nL 116.556437 17.083636 \r\nL 116.743853 17.083636 \r\nL 116.794966 214.756364 \r\nL 116.84608 17.083636 \r\nL 118.498748 17.083636 \r\nL 118.532824 214.756364 \r\nL 118.600975 17.083636 \r\nL 119.26545 17.083636 \r\nL 119.299526 214.756364 \r\nL 119.367677 17.083636 \r\nL 119.606207 17.083636 \r\nL 119.65732 214.756364 \r\nL 119.708434 17.083636 \r\nL 119.810661 17.083636 \r\nL 119.861774 214.756364 \r\nL 119.912888 17.083636 \r\nL 120.032152 17.083636 \r\nL 120.083266 214.756364 \r\nL 120.134379 17.083636 \r\nL 120.492174 17.083636 \r\nL 120.526249 214.756364 \r\nL 120.5944 17.083636 \r\nL 120.952195 17.083636 \r\nL 121.003308 214.756364 \r\nL 121.054422 17.083636 \r\nL 121.804086 17.083636 \r\nL 121.838161 214.756364 \r\nL 121.906313 17.083636 \r\nL 122.55375 17.083636 \r\nL 122.587826 214.756364 \r\nL 122.655977 17.083636 \r\nL 123.746397 17.083636 \r\nL 123.780473 214.756364 \r\nL 123.848624 17.083636 \r\nL 124.342721 17.083636 \r\nL 124.359759 214.756364 \r\nL 124.444948 17.083636 \r\nL 124.751629 17.083636 \r\nL 124.785704 214.756364 \r\nL 124.853856 17.083636 \r\nL 126.250957 17.083636 \r\nL 126.302071 214.756364 \r\nL 126.353184 17.083636 \r\nL 126.676903 17.083636 \r\nL 126.728016 214.756364 \r\nL 126.77913 17.083636 \r\nL 127.596945 17.083636 \r\nL 127.613983 214.756364 \r\nL 127.699172 17.083636 \r\nL 128.857744 17.083636 \r\nL 128.908857 214.756364 \r\nL 128.959971 17.083636 \r\nL 129.931126 17.083636 \r\nL 129.965202 214.756364 \r\nL 130.033353 17.083636 \r\nL 130.52745 17.083636 \r\nL 130.646715 214.756364 \r\nL 130.680791 214.756364 \r\nL 130.783018 17.083636 \r\nL 130.817093 214.756364 \r\nL 130.885244 17.083636 \r\nL 131.106736 17.083636 \r\nL 131.140812 214.756364 \r\nL 131.208963 17.083636 \r\nL 131.686022 17.083636 \r\nL 131.720098 214.756364 \r\nL 131.788249 17.083636 \r\nL 132.4868 17.083636 \r\nL 132.537913 214.756364 \r\nL 132.589027 17.083636 \r\nL 134.718754 17.083636 \r\nL 134.769868 214.756364 \r\nL 134.820981 17.083636 \r\nL 135.093586 17.083636 \r\nL 135.1447 214.756364 \r\nL 135.195813 17.083636 \r\nL 135.263964 17.083636 \r\nL 135.315078 214.756364 \r\nL 135.366191 17.083636 \r\nL 135.996591 17.083636 \r\nL 136.030666 214.756364 \r\nL 136.098818 17.083636 \r\nL 136.763293 17.083636 \r\nL 136.797368 214.756364 \r\nL 136.86552 17.083636 \r\nL 137.25739 17.083636 \r\nL 137.291465 214.756364 \r\nL 137.359616 17.083636 \r\nL 137.376654 17.083636 \r\nL 137.41073 214.756364 \r\nL 137.478881 17.083636 \r\nL 138.773756 17.083636 \r\nL 138.790793 214.756364 \r\nL 138.875983 17.083636 \r\nL 139.353042 17.083636 \r\nL 139.387117 214.756364 \r\nL 139.455268 17.083636 \r\nL 139.830101 17.083636 \r\nL 139.864176 214.756364 \r\nL 139.932327 17.083636 \r\nL 140.733105 17.083636 \r\nL 140.750143 214.756364 \r\nL 140.835332 17.083636 \r\nL 141.193126 17.083636 \r\nL 141.227202 214.756364 \r\nL 141.295353 17.083636 \r\nL 141.670185 17.083636 \r\nL 141.721299 214.756364 \r\nL 141.772412 17.083636 \r\nL 142.709492 17.083636 \r\nL 142.743568 214.756364 \r\nL 142.811719 17.083636 \r\nL 143.152476 17.083636 \r\nL 143.186551 214.756364 \r\nL 143.254703 17.083636 \r\nL 143.612497 17.083636 \r\nL 143.680648 214.756364 \r\nL 143.714724 17.083636 \r\nL 147.241553 17.083636 \r\nL 147.292666 214.756364 \r\nL 147.34378 17.083636 \r\nL 148.297898 17.083636 \r\nL 148.331973 214.756364 \r\nL 148.400125 17.083636 \r\nL 148.706805 17.083636 \r\nL 148.757919 214.756364 \r\nL 148.809032 17.083636 \r\nL 149.0646 17.083636 \r\nL 149.115713 214.756364 \r\nL 149.166827 17.083636 \r\nL 149.439432 17.083636 \r\nL 149.473507 214.756364 \r\nL 149.541659 17.083636 \r\nL 151.909916 17.083636 \r\nL 151.926954 214.756364 \r\nL 152.012143 17.083636 \r\nL 152.489202 17.083636 \r\nL 152.523277 214.756364 \r\nL 152.591429 17.083636 \r\nL 155.249329 17.083636 \r\nL 155.283404 214.756364 \r\nL 155.351556 17.083636 \r\nL 155.743425 17.083636 \r\nL 155.794539 214.756364 \r\nL 155.845652 17.083636 \r\nL 156.050106 17.083636 \r\nL 156.084182 214.756364 \r\nL 156.152333 17.083636 \r\nL 156.612354 17.083636 \r\nL 156.629392 214.756364 \r\nL 156.714581 17.083636 \r\nL 156.884959 17.083636 \r\nL 156.936073 214.756364 \r\nL 156.987186 17.083636 \r\nL 157.072375 17.083636 \r\nL 157.123489 214.756364 \r\nL 157.174602 17.083636 \r\nL 157.941304 17.083636 \r\nL 157.97538 214.756364 \r\nL 158.043531 17.083636 \r\nL 158.316136 17.083636 \r\nL 158.36725 214.756364 \r\nL 158.418363 17.083636 \r\nL 158.622817 17.083636 \r\nL 158.656893 214.756364 \r\nL 158.725044 17.083636 \r\nL 159.474708 17.083636 \r\nL 159.508784 214.756364 \r\nL 159.576935 17.083636 \r\nL 159.798427 17.083636 \r\nL 159.84954 214.756364 \r\nL 159.900654 17.083636 \r\nL 160.071032 17.083636 \r\nL 160.122145 214.756364 \r\nL 160.173259 17.083636 \r\nL 161.161453 17.083636 \r\nL 161.212566 214.756364 \r\nL 161.263679 17.083636 \r\nL 162.285949 17.083636 \r\nL 162.320024 214.756364 \r\nL 162.388176 17.083636 \r\nL 164.432714 17.083636 \r\nL 164.46679 214.756364 \r\nL 164.534941 17.083636 \r\nL 164.960887 17.083636 \r\nL 165.029038 214.756364 \r\nL 165.063114 17.083636 \r\nL 165.608324 17.083636 \r\nL 165.676475 214.756364 \r\nL 165.710551 17.083636 \r\nL 166.426139 17.083636 \r\nL 166.460215 214.756364 \r\nL 166.528366 17.083636 \r\nL 166.903198 17.083636 \r\nL 166.954312 214.756364 \r\nL 167.005425 17.083636 \r\nL 168.777359 17.083636 \r\nL 168.811434 214.756364 \r\nL 168.879586 17.083636 \r\nL 169.714439 17.083636 \r\nL 169.748514 214.756364 \r\nL 169.816666 17.083636 \r\nL 169.93593 17.083636 \r\nL 169.987044 214.756364 \r\nL 170.038157 17.083636 \r\nL 170.225573 17.083636 \r\nL 170.259649 214.756364 \r\nL 170.3278 17.083636 \r\nL 170.583368 17.083636 \r\nL 170.634481 214.756364 \r\nL 170.685595 17.083636 \r\nL 172.167885 17.083636 \r\nL 172.218998 214.756364 \r\nL 172.270112 17.083636 \r\nL 173.019776 17.083636 \r\nL 173.036814 214.756364 \r\nL 173.122003 17.083636 \r\nL 173.292381 17.083636 \r\nL 173.326457 214.756364 \r\nL 173.394608 17.083636 \r\nL 173.513873 17.083636 \r\nL 173.547949 214.756364 \r\nL 173.6161 17.083636 \r\nL 174.519104 17.083636 \r\nL 174.55318 214.756364 \r\nL 174.621331 17.083636 \r\nL 175.064315 17.083636 \r\nL 175.081352 214.756364 \r\nL 175.166542 17.083636 \r\nL 176.580681 17.083636 \r\nL 176.597718 214.756364 \r\nL 176.682908 17.083636 \r\nL 179.119316 17.083636 \r\nL 179.153392 214.756364 \r\nL 179.221543 17.083636 \r\nL 179.374883 17.083636 \r\nL 179.425997 214.756364 \r\nL 179.47711 17.083636 \r\nL 179.647488 17.083636 \r\nL 179.698602 214.756364 \r\nL 179.749715 17.083636 \r\nL 180.277888 17.083636 \r\nL 180.311963 214.756364 \r\nL 180.380115 17.083636 \r\nL 180.942363 17.083636 \r\nL 180.976439 214.756364 \r\nL 181.04459 17.083636 \r\nL 181.572762 17.083636 \r\nL 181.606838 214.756364 \r\nL 181.674989 17.083636 \r\nL 182.731334 17.083636 \r\nL 182.76541 214.756364 \r\nL 182.833561 17.083636 \r\nL 183.46396 17.083636 \r\nL 183.498036 214.756364 \r\nL 183.566187 17.083636 \r\nL 183.668414 17.083636 \r\nL 183.70249 214.756364 \r\nL 183.770641 17.083636 \r\nL 184.111398 17.083636 \r\nL 184.145473 214.756364 \r\nL 184.213625 17.083636 \r\nL 185.644802 17.083636 \r\nL 185.695915 214.756364 \r\nL 185.747028 17.083636 \r\nL 187.638227 17.083636 \r\nL 187.672302 214.756364 \r\nL 187.740454 17.083636 \r\nL 188.217512 17.083636 \r\nL 188.268626 214.756364 \r\nL 188.319739 17.083636 \r\nL 188.762723 17.083636 \r\nL 188.813836 214.756364 \r\nL 188.86495 17.083636 \r\nL 189.359047 17.083636 \r\nL 189.393122 214.756364 \r\nL 189.461273 17.083636 \r\nL 190.1939 17.083636 \r\nL 190.245013 214.756364 \r\nL 190.296127 17.083636 \r\nL 190.73911 17.083636 \r\nL 190.807261 214.756364 \r\nL 190.841337 17.083636 \r\nL 190.858375 17.083636 \r\nL 190.97764 214.756364 \r\nL 191.096904 17.083636 \r\nL 191.113942 17.083636 \r\nL 191.165056 214.756364 \r\nL 191.216169 17.083636 \r\nL 192.085098 17.083636 \r\nL 192.102136 214.756364 \r\nL 192.187325 17.083636 \r\nL 192.45993 17.083636 \r\nL 192.528081 214.756364 \r\nL 192.562157 17.083636 \r\nL 194.146674 17.083636 \r\nL 194.197788 214.756364 \r\nL 194.248901 17.083636 \r\nL 195.833419 17.083636 \r\nL 195.952683 214.756364 \r\nL 196.003797 214.756364 \r\nL 196.123061 17.083636 \r\nL 196.174175 214.756364 \r\nL 196.225288 17.083636 \r\nL 196.310478 17.083636 \r\nL 196.378629 214.756364 \r\nL 196.412704 17.083636 \r\nL 199.905458 17.083636 \r\nL 199.922496 214.756364 \r\nL 200.007685 17.083636 \r\nL 200.126949 17.083636 \r\nL 200.195101 214.756364 \r\nL 200.229176 17.083636 \r\nL 200.297328 17.083636 \r\nL 200.382517 214.756364 \r\nL 200.399555 17.083636 \r\nL 200.569933 17.083636 \r\nL 200.604008 214.756364 \r\nL 200.67216 17.083636 \r\nL 203.347098 17.083636 \r\nL 203.398211 214.756364 \r\nL 203.449325 17.083636 \r\nL 203.551551 17.083636 \r\nL 203.602665 214.756364 \r\nL 203.653778 17.083636 \r\nL 204.062686 17.083636 \r\nL 204.1138 214.756364 \r\nL 204.164913 17.083636 \r\nL 204.42048 17.083636 \r\nL 204.471594 214.756364 \r\nL 204.522707 17.083636 \r\nL 205.153107 17.083636 \r\nL 205.20422 214.756364 \r\nL 205.255334 17.083636 \r\nL 206.090187 17.083636 \r\nL 206.124262 214.756364 \r\nL 206.192414 17.083636 \r\nL 206.209452 17.083636 \r\nL 206.243527 214.756364 \r\nL 206.311679 17.083636 \r\nL 207.31691 17.083636 \r\nL 207.333948 214.756364 \r\nL 207.419137 17.083636 \r\nL 208.25399 17.083636 \r\nL 208.305104 214.756364 \r\nL 208.356217 17.083636 \r\nL 208.952541 17.083636 \r\nL 209.020692 214.756364 \r\nL 209.054768 17.083636 \r\nL 209.395524 17.083636 \r\nL 209.446638 214.756364 \r\nL 209.497751 17.083636 \r\nL 209.97481 17.083636 \r\nL 210.025924 214.756364 \r\nL 210.077037 17.083636 \r\nL 210.690399 17.083636 \r\nL 210.741512 214.756364 \r\nL 210.792625 17.083636 \r\nL 211.031155 17.083636 \r\nL 211.065231 214.756364 \r\nL 211.133382 17.083636 \r\nL 211.4571 17.083636 \r\nL 211.54229 214.756364 \r\nL 211.559327 17.083636 \r\nL 212.138613 17.083636 \r\nL 212.189727 214.756364 \r\nL 212.24084 17.083636 \r\nL 213.26311 17.083636 \r\nL 213.314223 214.756364 \r\nL 213.365336 17.083636 \r\nL 214.59206 17.083636 \r\nL 214.626135 214.756364 \r\nL 214.694287 17.083636 \r\nL 214.983929 17.083636 \r\nL 215.018005 214.756364 \r\nL 215.086156 17.083636 \r\nL 215.614329 17.083636 \r\nL 215.648404 214.756364 \r\nL 215.716556 17.083636 \r\nL 216.023237 17.083636 \r\nL 216.057312 214.756364 \r\nL 216.125463 17.083636 \r\nL 216.500296 17.083636 \r\nL 216.534371 214.756364 \r\nL 216.602522 17.083636 \r\nL 216.977355 17.083636 \r\nL 217.01143 214.756364 \r\nL 217.079581 17.083636 \r\nL 218.204078 17.083636 \r\nL 218.238153 214.756364 \r\nL 218.306305 17.083636 \r\nL 218.493721 17.083636 \r\nL 218.544834 214.756364 \r\nL 218.595948 17.083636 \r\nL 218.698174 17.083636 \r\nL 218.749288 214.756364 \r\nL 218.800401 17.083636 \r\nL 219.533028 17.083636 \r\nL 219.567103 214.756364 \r\nL 219.635255 17.083636 \r\nL 220.027125 17.083636 \r\nL 220.0612 214.756364 \r\nL 220.129351 17.083636 \r\nL 221.543491 17.083636 \r\nL 221.594604 214.756364 \r\nL 221.645718 17.083636 \r\nL 222.872441 17.083636 \r\nL 222.906516 214.756364 \r\nL 222.974668 17.083636 \r\nL 223.553953 17.083636 \r\nL 223.605067 214.756364 \r\nL 223.65618 17.083636 \r\nL 224.473996 17.083636 \r\nL 224.525109 214.756364 \r\nL 224.576223 17.083636 \r\nL 225.155509 17.083636 \r\nL 225.206622 214.756364 \r\nL 225.257736 17.083636 \r\nL 225.513303 17.083636 \r\nL 225.547379 214.756364 \r\nL 225.61553 17.083636 \r\nL 225.785908 17.083636 \r\nL 225.854059 214.756364 \r\nL 225.888135 17.083636 \r\nL 226.177778 17.083636 \r\nL 226.228891 214.756364 \r\nL 226.280005 17.083636 \r\nL 227.234123 17.083636 \r\nL 227.268198 214.756364 \r\nL 227.33635 17.083636 \r\nL 227.72822 17.083636 \r\nL 227.762295 214.756364 \r\nL 227.830447 17.083636 \r\nL 228.42677 17.083636 \r\nL 228.460846 214.756364 \r\nL 228.528997 17.083636 \r\nL 228.835678 17.083636 \r\nL 228.869754 214.756364 \r\nL 228.937905 17.083636 \r\nL 229.244586 17.083636 \r\nL 229.295699 214.756364 \r\nL 229.346813 17.083636 \r\nL 229.670531 17.083636 \r\nL 229.704607 214.756364 \r\nL 229.772758 17.083636 \r\nL 229.806834 17.083636 \r\nL 229.874985 214.756364 \r\nL 229.909061 17.083636 \r\nL 231.3232 17.083636 \r\nL 231.357276 214.756364 \r\nL 231.425427 17.083636 \r\nL 231.987675 17.083636 \r\nL 232.021751 214.756364 \r\nL 232.089902 17.083636 \r\nL 232.481772 17.083636 \r\nL 232.601036 214.756364 \r\nL 232.618074 214.756364 \r\nL 232.737339 17.083636 \r\nL 232.788453 17.083636 \r\nL 232.822528 214.756364 \r\nL 232.890679 17.083636 \r\nL 234.236667 17.083636 \r\nL 234.270743 214.756364 \r\nL 234.338894 17.083636 \r\nL 235.906374 17.083636 \r\nL 235.940449 214.756364 \r\nL 236.008601 17.083636 \r\nL 236.979757 17.083636 \r\nL 237.013832 214.756364 \r\nL 237.081983 17.083636 \r\nL 237.388664 17.083636 \r\nL 237.507929 214.756364 \r\nL 237.661269 214.756364 \r\nL 237.780534 17.083636 \r\nL 238.496123 17.083636 \r\nL 238.530198 214.756364 \r\nL 238.59835 17.083636 \r\nL 239.416165 17.083636 \r\nL 239.450241 214.756364 \r\nL 239.518392 17.083636 \r\nL 240.08064 17.083636 \r\nL 240.114716 214.756364 \r\nL 240.182867 17.083636 \r\nL 240.796228 17.083636 \r\nL 240.847342 214.756364 \r\nL 240.898455 17.083636 \r\nL 241.25625 17.083636 \r\nL 241.290325 214.756364 \r\nL 241.358477 17.083636 \r\nL 241.375514 17.083636 \r\nL 241.40959 214.756364 \r\nL 241.477741 17.083636 \r\nL 241.494779 17.083636 \r\nL 241.545893 214.756364 \r\nL 241.597006 17.083636 \r\nL 241.920725 17.083636 \r\nL 241.971838 214.756364 \r\nL 242.022952 17.083636 \r\nL 243.334864 17.083636 \r\nL 243.454129 214.756364 \r\nL 243.573393 17.083636 \r\nL 243.845998 17.083636 \r\nL 243.897112 214.756364 \r\nL 243.948225 17.083636 \r\nL 244.425284 17.083636 \r\nL 244.476398 214.756364 \r\nL 244.527511 17.083636 \r\nL 245.566818 17.083636 \r\nL 245.600894 214.756364 \r\nL 245.669045 17.083636 \r\nL 245.703121 17.083636 \r\nL 245.737197 214.756364 \r\nL 245.805348 17.083636 \r\nL 246.708352 17.083636 \r\nL 246.742428 214.756364 \r\nL 246.810579 17.083636 \r\nL 247.168374 17.083636 \r\nL 247.202449 214.756364 \r\nL 247.2706 17.083636 \r\nL 247.611357 17.083636 \r\nL 247.730622 214.756364 \r\nL 247.849886 17.083636 \r\nL 248.701777 17.083636 \r\nL 248.735853 214.756364 \r\nL 248.804004 17.083636 \r\nL 249.638858 17.083636 \r\nL 249.689971 214.756364 \r\nL 249.741085 17.083636 \r\nL 251.359678 17.083636 \r\nL 251.393753 214.756364 \r\nL 251.461904 17.083636 \r\nL 251.700434 17.083636 \r\nL 251.73451 214.756364 \r\nL 251.802661 17.083636 \r\nL 252.705665 17.083636 \r\nL 252.756779 214.756364 \r\nL 252.807892 17.083636 \r\nL 253.250876 17.083636 \r\nL 253.284951 214.756364 \r\nL 253.353103 17.083636 \r\nL 254.630939 17.083636 \r\nL 254.665015 214.756364 \r\nL 254.733166 17.083636 \r\nL 256.147305 17.083636 \r\nL 256.181381 214.756364 \r\nL 256.249532 17.083636 \r\nL 256.743629 17.083636 \r\nL 256.777705 214.756364 \r\nL 256.845856 17.083636 \r\nL 257.016234 17.083636 \r\nL 257.067348 214.756364 \r\nL 257.118461 17.083636 \r\nL 257.83405 17.083636 \r\nL 257.868125 214.756364 \r\nL 257.936276 17.083636 \r\nL 258.311109 17.083636 \r\nL 258.345184 214.756364 \r\nL 258.413335 17.083636 \r\nL 260.79863 17.083636 \r\nL 260.849744 214.756364 \r\nL 260.900857 17.083636 \r\nL 261.343841 17.083636 \r\nL 261.394954 214.756364 \r\nL 261.446068 17.083636 \r\nL 262.417223 17.083636 \r\nL 262.468337 214.756364 \r\nL 262.51945 17.083636 \r\nL 263.337266 17.083636 \r\nL 263.371341 214.756364 \r\nL 263.439493 17.083636 \r\nL 263.609871 17.083636 \r\nL 263.69506 214.756364 \r\nL 263.712098 17.083636 \r\nL 265.006972 17.083636 \r\nL 265.041048 214.756364 \r\nL 265.109199 17.083636 \r\nL 265.603296 17.083636 \r\nL 265.654409 214.756364 \r\nL 265.705523 17.083636 \r\nL 265.96109 17.083636 \r\nL 266.029242 214.756364 \r\nL 266.063317 17.083636 \r\nL 266.165544 17.083636 \r\nL 266.216658 214.756364 \r\nL 266.267771 17.083636 \r\nL 266.421111 17.083636 \r\nL 266.472225 214.756364 \r\nL 266.523338 17.083636 \r\nL 267.630797 17.083636 \r\nL 267.647835 214.756364 \r\nL 267.733024 17.083636 \r\nL 269.896827 17.083636 \r\nL 270.016092 214.756364 \r\nL 270.050167 214.756364 \r\nL 270.169432 17.083636 \r\nL 270.663529 17.083636 \r\nL 270.73168 214.756364 \r\nL 270.765756 17.083636 \r\nL 271.072437 17.083636 \r\nL 271.12355 214.756364 \r\nL 271.174663 17.083636 \r\nL 271.464306 17.083636 \r\nL 271.51542 214.756364 \r\nL 271.566533 17.083636 \r\nL 271.958403 17.083636 \r\nL 272.009517 214.756364 \r\nL 272.06063 17.083636 \r\nL 272.520651 17.083636 \r\nL 272.639916 214.756364 \r\nL 272.759181 17.083636 \r\nL 273.355505 17.083636 \r\nL 273.406618 214.756364 \r\nL 273.457732 17.083636 \r\nL 274.497039 17.083636 \r\nL 274.548152 214.756364 \r\nL 274.599266 17.083636 \r\nL 275.195589 17.083636 \r\nL 275.229665 214.756364 \r\nL 275.297816 17.083636 \r\nL 275.723762 17.083636 \r\nL 275.774875 214.756364 \r\nL 275.825989 17.083636 \r\nL 276.83122 17.083636 \r\nL 276.848258 214.756364 \r\nL 276.933447 17.083636 \r\nL 277.103825 17.083636 \r\nL 277.171977 214.756364 \r\nL 277.206052 17.083636 \r\nL 277.359393 17.083636 \r\nL 277.393468 214.756364 \r\nL 277.461619 17.083636 \r\nL 277.938678 17.083636 \r\nL 278.00683 214.756364 \r\nL 278.040905 17.083636 \r\nL 279.403931 17.083636 \r\nL 279.420969 214.756364 \r\nL 279.506158 17.083636 \r\nL 280.11952 17.083636 \r\nL 280.153595 214.756364 \r\nL 280.221747 17.083636 \r\nL 281.141789 17.083636 \r\nL 281.192902 214.756364 \r\nL 281.244016 17.083636 \r\nL 281.925529 17.083636 \r\nL 281.976642 214.756364 \r\nL 282.027756 17.083636 \r\nL 283.050025 17.083636 \r\nL 283.0841 214.756364 \r\nL 283.152252 17.083636 \r\nL 283.595235 17.083636 \r\nL 283.7145 214.756364 \r\nL 283.731538 214.756364 \r\nL 283.850802 17.083636 \r\nL 284.344899 17.083636 \r\nL 284.396013 214.756364 \r\nL 284.447126 17.083636 \r\nL 285.724963 17.083636 \r\nL 285.776076 214.756364 \r\nL 285.82719 17.083636 \r\nL 286.236097 17.083636 \r\nL 286.287211 214.756364 \r\nL 286.338324 17.083636 \r\nL 286.866497 17.083636 \r\nL 286.91761 214.756364 \r\nL 286.968724 17.083636 \r\nL 287.888766 17.083636 \r\nL 287.939879 214.756364 \r\nL 287.990993 17.083636 \r\nL 288.570279 17.083636 \r\nL 288.621392 214.756364 \r\nL 288.672506 17.083636 \r\nL 289.643662 17.083636 \r\nL 289.677737 214.756364 \r\nL 289.745889 17.083636 \r\nL 290.069607 17.083636 \r\nL 290.188872 214.756364 \r\nL 290.20591 214.756364 \r\nL 290.325174 17.083636 \r\nL 291.057801 17.083636 \r\nL 291.091876 214.756364 \r\nL 291.160028 17.083636 \r\nL 292.403789 17.083636 \r\nL 292.454902 214.756364 \r\nL 292.506016 17.083636 \r\nL 293.64755 17.083636 \r\nL 293.698663 214.756364 \r\nL 293.749776 17.083636 \r\nL 294.363138 17.083636 \r\nL 294.397214 214.756364 \r\nL 294.465365 17.083636 \r\nL 294.789084 17.083636 \r\nL 294.840197 214.756364 \r\nL 294.89131 17.083636 \r\nL 295.044651 17.083636 \r\nL 295.078727 214.756364 \r\nL 295.146878 17.083636 \r\nL 295.249105 17.083636 \r\nL 295.300218 214.756364 \r\nL 295.351332 17.083636 \r\nL 295.52171 17.083636 \r\nL 295.572823 214.756364 \r\nL 295.623937 17.083636 \r\nL 295.896542 17.083636 \r\nL 295.947655 214.756364 \r\nL 295.998769 17.083636 \r\nL 296.356563 17.083636 \r\nL 296.407677 214.756364 \r\nL 296.45879 17.083636 \r\nL 297.021038 17.083636 \r\nL 297.038076 214.756364 \r\nL 297.123265 17.083636 \r\nL 297.481059 17.083636 \r\nL 297.549211 214.756364 \r\nL 297.583286 17.083636 \r\nL 299.304106 17.083636 \r\nL 299.338182 214.756364 \r\nL 299.406333 17.083636 \r\nL 299.678938 17.083636 \r\nL 299.713014 214.756364 \r\nL 299.781165 17.083636 \r\nL 300.002657 17.083636 \r\nL 300.05377 214.756364 \r\nL 300.104884 17.083636 \r\nL 300.769359 17.083636 \r\nL 300.820472 214.756364 \r\nL 300.871586 17.083636 \r\nL 301.212342 17.083636 \r\nL 301.331607 214.756364 \r\nL 301.348645 214.756364 \r\nL 301.467909 17.083636 \r\nL 302.830935 17.083636 \r\nL 302.865011 214.756364 \r\nL 302.933162 17.083636 \r\nL 304.159885 17.083636 \r\nL 304.210999 214.756364 \r\nL 304.262112 17.083636 \r\nL 304.67102 17.083636 \r\nL 304.722133 214.756364 \r\nL 304.773247 17.083636 \r\nL 305.011776 17.083636 \r\nL 305.114003 214.756364 \r\nL 305.233268 17.083636 \r\nL 305.693289 17.083636 \r\nL 305.76144 214.756364 \r\nL 305.795516 17.083636 \r\nL 307.584487 17.083636 \r\nL 307.618563 214.756364 \r\nL 307.686714 17.083636 \r\nL 308.078584 17.083636 \r\nL 308.129697 214.756364 \r\nL 308.180811 17.083636 \r\nL 308.521567 17.083636 \r\nL 308.572681 214.756364 \r\nL 308.623794 17.083636 \r\nL 309.066778 17.083636 \r\nL 309.100853 214.756364 \r\nL 309.169005 17.083636 \r\nL 309.629026 17.083636 \r\nL 309.663101 214.756364 \r\nL 309.731253 17.083636 \r\nL 310.617219 17.083636 \r\nL 310.668333 214.756364 \r\nL 310.719446 17.083636 \r\nL 311.026127 17.083636 \r\nL 311.077241 214.756364 \r\nL 311.128354 17.083636 \r\nL 311.417997 17.083636 \r\nL 311.435035 214.756364 \r\nL 311.520224 17.083636 \r\nL 311.639489 17.083636 \r\nL 311.690602 214.756364 \r\nL 311.741716 17.083636 \r\nL 312.150623 17.083636 \r\nL 312.201737 214.756364 \r\nL 312.25285 17.083636 \r\nL 312.610644 17.083636 \r\nL 312.661758 214.756364 \r\nL 312.712871 17.083636 \r\nL 313.564762 17.083636 \r\nL 313.598838 214.756364 \r\nL 313.666989 17.083636 \r\nL 314.007746 17.083636 \r\nL 314.058859 214.756364 \r\nL 314.109973 17.083636 \r\nL 315.14928 17.083636 \r\nL 315.200393 214.756364 \r\nL 315.251507 17.083636 \r\nL 315.830793 17.083636 \r\nL 315.881906 214.756364 \r\nL 315.93302 17.083636 \r\nL 317.296045 17.083636 \r\nL 317.347159 214.756364 \r\nL 317.398272 17.083636 \r\nL 318.676109 17.083636 \r\nL 318.693147 214.756364 \r\nL 318.778336 17.083636 \r\nL 319.13613 17.083636 \r\nL 319.255395 214.756364 \r\nL 319.374659 17.083636 \r\nL 319.408735 17.083636 \r\nL 319.459849 214.756364 \r\nL 319.510962 17.083636 \r\nL 320.652496 17.083636 \r\nL 320.686572 214.756364 \r\nL 320.754723 17.083636 \r\nL 321.419198 17.083636 \r\nL 321.453274 214.756364 \r\nL 321.521425 17.083636 \r\nL 321.930333 17.083636 \r\nL 321.964408 214.756364 \r\nL 322.03256 17.083636 \r\nL 322.373316 17.083636 \r\nL 322.424429 214.756364 \r\nL 322.475543 17.083636 \r\nL 323.344472 17.083636 \r\nL 323.378547 214.756364 \r\nL 323.446699 17.083636 \r\nL 325.797918 17.083636 \r\nL 325.831994 214.756364 \r\nL 325.900145 17.083636 \r\nL 326.377204 17.083636 \r\nL 326.445355 214.756364 \r\nL 326.479431 17.083636 \r\nL 327.5017 17.083636 \r\nL 327.535776 214.756364 \r\nL 327.603927 17.083636 \r\nL 328.915839 17.083636 \r\nL 328.966953 214.756364 \r\nL 329.018066 17.083636 \r\nL 330.415168 17.083636 \r\nL 330.449243 214.756364 \r\nL 330.517394 17.083636 \r\nL 331.198907 17.083636 \r\nL 331.284096 214.756364 \r\nL 331.301134 17.083636 \r\nL 331.352248 17.083636 \r\nL 331.386323 214.756364 \r\nL 331.454475 17.083636 \r\nL 331.931534 17.083636 \r\nL 331.965609 214.756364 \r\nL 332.033761 17.083636 \r\nL 332.408593 17.083636 \r\nL 332.42563 214.756364 \r\nL 332.510819 17.083636 \r\nL 333.243446 17.083636 \r\nL 333.277521 214.756364 \r\nL 333.345673 17.083636 \r\nL 333.924959 17.083636 \r\nL 333.941996 214.756364 \r\nL 334.027186 17.083636 \r\nL 335.066493 17.083636 \r\nL 335.100568 214.756364 \r\nL 335.16872 17.083636 \r\nL 335.185757 17.083636 \r\nL 335.219833 214.756364 \r\nL 335.287984 17.083636 \r\nL 335.696892 17.083636 \r\nL 335.799119 214.756364 \r\nL 335.918384 17.083636 \r\nL 337.04288 17.083636 \r\nL 337.111031 214.756364 \r\nL 337.145107 17.083636 \r\nL 337.775506 17.083636 \r\nL 337.809582 214.756364 \r\nL 337.877733 17.083636 \r\nL 339.172608 17.083636 \r\nL 339.189645 214.756364 \r\nL 339.274834 17.083636 \r\nL 339.496326 17.083636 \r\nL 339.54744 214.756364 \r\nL 339.598553 17.083636 \r\nL 339.683742 17.083636 \r\nL 339.717818 214.756364 \r\nL 339.785969 17.083636 \r\nL 341.080844 17.083636 \r\nL 341.114919 214.756364 \r\nL 341.18307 17.083636 \r\nL 341.591978 17.083636 \r\nL 341.643092 214.756364 \r\nL 341.694205 17.083636 \r\nL 342.273491 17.083636 \r\nL 342.307567 214.756364 \r\nL 342.375718 17.083636 \r\nL 343.261685 17.083636 \r\nL 343.29576 214.756364 \r\nL 343.363912 17.083636 \r\nL 343.738744 17.083636 \r\nL 343.772819 214.756364 \r\nL 343.840971 17.083636 \r\nL 343.875046 17.083636 \r\nL 343.909122 214.756364 \r\nL 343.977273 17.083636 \r\nL 344.931391 17.083636 \r\nL 344.982505 214.756364 \r\nL 345.033618 17.083636 \r\nL 346.107001 17.083636 \r\nL 346.141076 214.756364 \r\nL 346.209228 17.083636 \r\nL 346.652211 17.083636 \r\nL 346.703324 214.756364 \r\nL 346.754438 17.083636 \r\nL 347.112232 17.083636 \r\nL 347.146308 214.756364 \r\nL 347.214459 17.083636 \r\nL 347.930048 17.083636 \r\nL 347.964123 214.756364 \r\nL 348.032275 17.083636 \r\nL 349.00343 17.083636 \r\nL 349.037506 214.756364 \r\nL 349.105657 17.083636 \r\nL 349.684943 17.083636 \r\nL 349.684943 17.083636 \r\n\" style=\"fill:none;stroke:#1f77b4;stroke-linecap:square;stroke-width:1.5;\"/>\r\n   </g>\r\n   <g id=\"patch_3\">\r\n    <path d=\"M 30.103125 224.64 \r\nL 30.103125 7.2 \r\n\" style=\"fill:none;stroke:#000000;stroke-linecap:square;stroke-linejoin:miter;stroke-width:0.8;\"/>\r\n   </g>\r\n   <g id=\"patch_4\">\r\n    <path d=\"M 364.903125 224.64 \r\nL 364.903125 7.2 \r\n\" style=\"fill:none;stroke:#000000;stroke-linecap:square;stroke-linejoin:miter;stroke-width:0.8;\"/>\r\n   </g>\r\n   <g id=\"patch_5\">\r\n    <path d=\"M 30.103125 224.64 \r\nL 364.903125 224.64 \r\n\" style=\"fill:none;stroke:#000000;stroke-linecap:square;stroke-linejoin:miter;stroke-width:0.8;\"/>\r\n   </g>\r\n   <g id=\"patch_6\">\r\n    <path d=\"M 30.103125 7.2 \r\nL 364.903125 7.2 \r\n\" style=\"fill:none;stroke:#000000;stroke-linecap:square;stroke-linejoin:miter;stroke-width:0.8;\"/>\r\n   </g>\r\n  </g>\r\n </g>\r\n <defs>\r\n  <clipPath id=\"pe209f6eeee\">\r\n   <rect height=\"217.44\" width=\"334.8\" x=\"30.103125\" y=\"7.2\"/>\r\n  </clipPath>\r\n </defs>\r\n</svg>\r\n",
      "image/png": "[encoded data removed]"
     },
     "metadata": {
      "needs_background": "light"
     }
    }
   ],
   "source": [
    "co = 0\n",
    "len(perclos_list)\n",
    "from matplotlib import pyplot as plt\n",
    "plt.plot(perclos_list)\n",
    "plt.show()"
   ]
  },
  {
   "cell_type": "code",
   "execution_count": 42,
   "metadata": {},
   "outputs": [
    {
     "output_type": "execute_result",
     "data": {
      "text/plain": [
       "38"
      ]
     },
     "metadata": {},
     "execution_count": 42
    }
   ],
   "source": [
    "co\n",
    "\n",
    "# '''\n",
    "# Hypothesis: Assuming the amount of closure is indicated by the 'pred', the amount of zeros and \n",
    "# the amount of values less than 0.8 are the same that is 38. \n",
    "# '''"
   ]
  }
 ]
}