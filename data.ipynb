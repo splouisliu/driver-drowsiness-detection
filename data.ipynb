{
 "metadata": {
  "language_info": {
   "codemirror_mode": {
    "name": "ipython",
    "version": 3
   },
   "file_extension": ".py",
   "mimetype": "text/x-python",
   "name": "python",
   "nbconvert_exporter": "python",
   "pygments_lexer": "ipython3",
   "version": "3.9.0-final"
  },
  "orig_nbformat": 2,
  "kernelspec": {
   "name": "python3",
   "display_name": "Python 3.9.0 64-bit",
   "metadata": {
    "interpreter": {
     "hash": "63fd5069d213b44bf678585dea6b12cceca9941eaf7f819626cde1f2670de90d"
    }
   }
  }
 },
 "nbformat": 4,
 "nbformat_minor": 2,
 "cells": [
  {
   "cell_type": "code",
   "execution_count": 74,
   "metadata": {},
   "outputs": [],
   "source": [
    "import torch\n",
    "import torch.nn as nn\n",
    "import torch.nn.functional as F \n",
    "import torch.optim as optim\n",
    "from torchvision import transforms\n",
    "\n",
    "import matplotlib.pyplot as plt \n",
    "import numpy as np\n",
    "from PIL import Image\n",
    "\n",
    "import os"
   ]
  },
  {
   "cell_type": "code",
   "execution_count": 154,
   "metadata": {},
   "outputs": [],
   "source": [
    "class EyeDataset(torch.utils.data.Dataset):\n",
    "    def __init__(self, path):\n",
    "        self.transforms = transforms.Compose([transforms.Resize([24, 24]),\n",
    "                                              transforms.ToTensor()]) \n",
    "        self.img_paths = []\n",
    "        self.img_labels = []\n",
    "\n",
    "        # Traverses all subfolders and stores the path and label of each training example\n",
    "        subfolders = os.listdir(path)\n",
    "        for folder in subfolders:\n",
    "            p = os.path.join(path, folder)\n",
    "\n",
    "            if os.path.isdir(p):                                                    # ignores documentation files\n",
    "                imgs = os.listdir(p)\n",
    "\n",
    "                for file_name in imgs:\n",
    "                    self.img_paths.append(os.path.join(p, file_name))               # append image path\n",
    "                    self.img_labels.append(int(file_name.split(\"_\")[4]))            # append eye state label\n",
    "    \n",
    "    def __len__(self):\n",
    "        return len(self.img_paths)\n",
    "\n",
    "    def __getitem__(self, idx):\n",
    "        img = Image.open(self.img_paths[idx]).convert(\"RGB\") \n",
    "        img = self.transforms(img)\n",
    "        label = self.img_labels[idx]\n",
    "\n",
    "        return (img, label)\n",
    "\n"
   ]
  },
  {
   "cell_type": "code",
   "execution_count": 156,
   "metadata": {},
   "outputs": [],
   "source": [
    "# Create Dataset object\n",
    "dataset = EyeDataset(\".\\MRL\")       # Pass in root folder of dataset (only keep subfolders, delete all other )\n",
    "\n",
    "# Random split (60-20-20)\n",
    "n = len(dataset)\n",
    "n_train = int(0.6 *n)\n",
    "n_valid = int(0.2 *n)\n",
    "n_test = n - n_train - n_valid\n",
    "\n",
    "[train_set, valid_set, test_set] = torch.utils.data.random_split(dataset, [n_train, n_valid, n_test])"
   ]
  }
 ]
}